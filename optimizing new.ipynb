{
 "cells": [
  {
   "cell_type": "code",
   "execution_count": 16,
   "metadata": {},
   "outputs": [
    {
     "name": "stdout",
     "output_type": "stream",
     "text": [
      "Requirement already satisfied: googlemaps in c:\\users\\lenovo\\opencv\\lib\\site-packages (4.4.2)\n",
      "Requirement already satisfied: requests<3.0,>=2.20.0 in c:\\users\\lenovo\\opencv\\lib\\site-packages (from googlemaps) (2.25.0)\n",
      "Requirement already satisfied: certifi>=2017.4.17 in c:\\users\\lenovo\\opencv\\lib\\site-packages (from requests<3.0,>=2.20.0->googlemaps) (2020.11.8)\n",
      "Requirement already satisfied: chardet<4,>=3.0.2 in c:\\users\\lenovo\\opencv\\lib\\site-packages (from requests<3.0,>=2.20.0->googlemaps) (3.0.4)\n",
      "Requirement already satisfied: urllib3<1.27,>=1.21.1 in c:\\users\\lenovo\\opencv\\lib\\site-packages (from requests<3.0,>=2.20.0->googlemaps) (1.26.2)\n",
      "Requirement already satisfied: idna<3,>=2.5 in c:\\users\\lenovo\\opencv\\lib\\site-packages (from requests<3.0,>=2.20.0->googlemaps) (2.10)\n"
     ]
    },
    {
     "name": "stderr",
     "output_type": "stream",
     "text": [
      "WARNING: You are using pip version 20.2.4; however, version 20.3.3 is available.\n",
      "You should consider upgrading via the 'c:\\users\\lenovo\\opencv\\scripts\\python.exe -m pip install --upgrade pip' command.\n"
     ]
    },
    {
     "name": "stdout",
     "output_type": "stream",
     "text": [
      "Collecting xlsxwriter\n",
      "  Downloading XlsxWriter-1.3.7-py2.py3-none-any.whl (144 kB)\n",
      "Installing collected packages: xlsxwriter\n",
      "Successfully installed xlsxwriter-1.3.7\n"
     ]
    },
    {
     "name": "stderr",
     "output_type": "stream",
     "text": [
      "WARNING: You are using pip version 20.2.4; however, version 20.3.3 is available.\n",
      "You should consider upgrading via the 'c:\\users\\lenovo\\opencv\\scripts\\python.exe -m pip install --upgrade pip' command.\n",
      "ERROR: Could not find a version that satisfies the requirement pprint (from versions: none)\n",
      "ERROR: No matching distribution found for pprint\n",
      "WARNING: You are using pip version 20.2.4; however, version 20.3.3 is available.\n",
      "You should consider upgrading via the 'c:\\users\\lenovo\\opencv\\scripts\\python.exe -m pip install --upgrade pip' command.\n",
      "ERROR: Could not find a version that satisfies the requirement json (from versions: none)\n",
      "ERROR: No matching distribution found for json\n",
      "WARNING: You are using pip version 20.2.4; however, version 20.3.3 is available.\n",
      "You should consider upgrading via the 'c:\\users\\lenovo\\opencv\\scripts\\python.exe -m pip install --upgrade pip' command.\n"
     ]
    }
   ],
   "source": [
    "import sys\n",
    "\n",
    "# !{sys.executable} -m pip install googlemaps\n",
    "# !{sys.executable} -m pip install xlsxwriter\n",
    "# !{sys.executable} -m pip install pprint\n",
    "# !{sys.executable} -m pip install json\n",
    "\n",
    "# import the library\n",
    "import googlemaps\n",
    "import json\n",
    "import pprint\n",
    "import xlsxwriter\n",
    "import time\n",
    "\n"
   ]
  },
  {
   "cell_type": "code",
   "execution_count": null,
   "metadata": {},
   "outputs": [],
   "source": [
    "# Define the API Key.\n",
    "API_KEY = 'YOUR API KEY'\n",
    "\n",
    "# Define the Client\n",
    "gmaps = googlemaps.Client(key = API_KEY)\n",
    "\n",
    "# Do a simple nearby search where we specify the location\n",
    "# in lat/lon format, along with a radius measured in meters\n",
    "places_result  = gmaps.places_nearby(location='-33.8670522,151.1957362', radius = 40000, open_now =False , type = 'hospital')\n",
    "\n",
    "time.sleep(3)\n",
    "\n",
    "place_result  = gmaps.places_nearby(page_token = places_result['next_page_token'])\n",
    "\n",
    "stored_results = []\n",
    "\n",
    "# loop through each of the places in the results, and get the place details.      \n",
    "for place in places_result['results']:\n",
    "\n",
    "    # define the place id, needed to get place details. Formatted as a string.\n",
    "    my_place_id = place['place_id']\n",
    "\n",
    "    # define the fields you would liked return. Formatted as a list.\n",
    "    my_fields = ['name','formatted_phone_number','website']\n",
    "\n",
    "    # make a request for the details.\n",
    "    places_details  = gmaps.place(place_id= my_place_id , fields= my_fields)\n",
    "\n",
    "    # print the results of the details, returned as a dictionary.\n",
    "    pprint.pprint(places_details['result'])\n",
    "\n",
    "    # store the results in a list object.\n",
    "    stored_results.append(places_details['result'])\n",
    "\n",
    "# -------------- DUMPING VALUES IN EXCEL -----------------------\n",
    "\n",
    "# define the headers, that is just the key of each result dictionary.\n",
    "row_headers = stored_results[0].keys()\n",
    "\n",
    "# create a new workbook and a new worksheet.\n",
    "workbook = xlsxwriter.Workbook(r'C:\\Users\\305197\\Desktop\\data.xlsx')\n",
    "worksheet = workbook.add_worksheet()\n",
    "\n",
    "# populate the header row\n",
    "col = 0\n",
    "for header in row_headers:\n",
    "    worksheet.write(0, col, header)\n",
    "    col += 1\n",
    "\n",
    "row = 1\n",
    "col = 0\n",
    "# populate the other rows\n",
    "\n",
    "# get each result from the list.\n",
    "for result in stored_results:\n",
    "\n",
    "    # get the values from each result.\n",
    "    result_values = result.values()\n",
    "\n",
    "    # loop through each value in the values component.\n",
    "    for value in result_values:\n",
    "        worksheet.write(row, col, value)\n",
    "        col += 1\n",
    "    \n",
    "    # make sure to go to the next row & reset the column.\n",
    "    row += 1\n",
    "    col = 0\n",
    "\n",
    "# close the workbook\n",
    "workbook.close()\n"
   ]
  }
 ],
 "metadata": {
  "kernelspec": {
   "display_name": "Python 3",
   "language": "python",
   "name": "python3"
  },
  "language_info": {
   "codemirror_mode": {
    "name": "ipython",
    "version": 3
   },
   "file_extension": ".py",
   "mimetype": "text/x-python",
   "name": "python",
   "nbconvert_exporter": "python",
   "pygments_lexer": "ipython3",
   "version": "3.8.6"
  }
 },
 "nbformat": 4,
 "nbformat_minor": 4
}
