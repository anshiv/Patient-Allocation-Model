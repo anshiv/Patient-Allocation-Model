{
 "cells": [
  {
   "cell_type": "code",
   "execution_count": 50,
   "metadata": {},
   "outputs": [],
   "source": [
    "import sys\n",
    "# !{sys.executable} -m pip install numpy\n",
    "# !{sys.executable} -m pip install pandas\n",
    "# !{sys.executable} -m pip install requests\n",
    "# !{sys.executable} -m pip install bs4\n",
    "# !{sys.executable} -m pip install numpy==1.19.3 \n",
    "# !{sys.executable} -m pip install pandas\n",
    "# !{sys.executable} -m pip install lxml\n",
    "# !{sys.executable} -m pip install googletrans\n",
    "# !{sys.executable} -m pip install langdetect\n",
    "# !{sys.executable} -m pip install googletrans\n",
    "import math\n",
    "import time\n",
    "from time import sleep\n",
    "# import googletrans\n",
    "# from googletrans import Translator\n",
    "# from langdetect import detect\n",
    "import string\n",
    "import numpy\n",
    "import pandas as pd\n",
    "import re\n",
    "# import lxml\n",
    "from bs4 import BeautifulSoup\n",
    "from datetime import date, timedelta, datetime\n",
    "from IPython.core.display import clear_output\n",
    "from random import randint\n",
    "from requests import get\n",
    "from time import sleep\n",
    "from time import time\n",
    "start_time = time()\n",
    "\n",
    "from warnings import warn"
   ]
  },
  {
   "cell_type": "code",
   "execution_count": 51,
   "metadata": {},
   "outputs": [],
   "source": [
    "# Loading 911 Call Dataset\n",
    "## For allocation\n",
    "# data = pd.read_csv(\"data.csv\")\n",
    "\n",
    "# For reallocation\n",
    "data = pd.read_csv(\"alloted.csv\")\n",
    "data = data[:1000]\n",
    "# Loading Hospital Location Data \n",
    "hosp = pd.read_csv(\"hospital.csv\")\n",
    "hosp1 = pd.DataFrame.copy(hosp,deep = True)\n",
    "# hosp1"
   ]
  },
  {
   "cell_type": "code",
   "execution_count": 52,
   "metadata": {},
   "outputs": [],
   "source": [
    "def hs_dist(lat1, lon1, lat2, lon2): \n",
    "      \n",
    "    # distance between latitudes \n",
    "    # and longitudes \n",
    "    dlat = (lat2 - lat1) * math.pi / 180.0\n",
    "    dlon = (lon2 - lon1) * math.pi / 180.0\n",
    "  \n",
    "    # convert to radians \n",
    "    lat1 = (lat1) * math.pi / 180.0\n",
    "    lat2 = (lat2) * math.pi / 180.0\n",
    "  \n",
    "    # apply formulae \n",
    "    a = (pow(math.sin(dlat / 2), 2) + \n",
    "         pow(math.sin(dlon / 2), 2) * \n",
    "             math.cos(lat1) * math.cos(lat2)); \n",
    "    rad = 6371\n",
    "    c = 2 * math.asin(math.sqrt(a)) \n",
    "    return rad * c "
   ]
  },
  {
   "cell_type": "code",
   "execution_count": 53,
   "metadata": {},
   "outputs": [],
   "source": [
    "# print(type(data.loc[2][3]))\n",
    "\n",
    "# print(hosp[\"longitude\"].count())\n"
   ]
  },
  {
   "cell_type": "code",
   "execution_count": 54,
   "metadata": {},
   "outputs": [],
   "source": [
    "def allot(lat, lon): \n",
    "        min_dist = hs_dist(lat, lon, hosp.loc[0][3], hosp.loc[0][4])\n",
    "        min_index = 1\n",
    "        for i in range(1,hosp[\"longitude\"].count()):\n",
    "                dist = hs_dist(lat, lon, hosp.loc[i][3], hosp.loc[i][4])\n",
    "                if(dist < min_dist):\n",
    "                        min_dist = dist\n",
    "                        min_index = i\n",
    "        return hosp.iloc[min_index], min_dist"
   ]
  },
  {
   "cell_type": "code",
   "execution_count": 55,
   "metadata": {},
   "outputs": [],
   "source": [
    "data['hospital_name'] = data['hospital_name'].astype(str)\n",
    "# for i in range(1,data[\"lat\"].count()):\n",
    "#         alloted_hospital = allot(data.loc[i][0],data.loc[i][1])\n",
    "#         data.at[i,'hospital_no'] = alloted_hospital[0][0]\n",
    "#         data.at[i,'hospital_name'] = alloted_hospital[0][1]\n",
    "#         data.at[i,'hospital_lat'] = alloted_hospital[0][3]\n",
    "#         data.at[i,'hospital_lon'] = alloted_hospital[0][4]\n",
    "#         data.at[i,'distance'] = alloted_hospital[1]4h\n",
    "# hosp1"
   ]
  },
  {
   "cell_type": "code",
   "execution_count": 56,
   "metadata": {},
   "outputs": [],
   "source": [
    "def reallot(x,y):\n",
    "    data1 = data\n",
    "    hosp1 = pd.DataFrame.copy(hosp,deep = True)\n",
    "    new_row = pd.DataFrame ({'no':35,\"name\":\"New Hospital\",\"address\" :\"Not Defined\",\"longitude\":x1,\"latitude\":y1,\"rounded lat\" : x1,\"rounded long\":y1},index =[1])\n",
    "    hosp1 = pd.concat([hosp1,new_row]).set_index(\"no\").reset_index()\n",
    "    # print(hosp.shape,hosp1.shape)\n",
    "    for i in range(0,999):\n",
    "        dist = hs_dist(x,y,data.loc[i][0],data.loc[i][1])\n",
    "        if dist<data.loc[i][14]:\n",
    "            print(\"i is\")       \n",
    "            data1[i]['hospital_no'] = hosp1.loc[34][0]\n",
    "            data1[i]['hospital_name'] = hosp1.loc[34][1]\n",
    "            data1[i]['hospital_lat'] = hosp1.loc[34][3]\n",
    "            data1[i]['hospital_lon'] = hosp1.loc[34][4]\n",
    "            data1[i]['distance'] = dist\n",
    "\n",
    "    return data1\n",
    "# hosp1"
   ]
  },
  {
   "cell_type": "code",
   "execution_count": 57,
   "metadata": {},
   "outputs": [],
   "source": [
    "# alloted_hospital = allot(data.loc[2][0],data.loc[2][1])\n",
    "# print(alloted_hospital[0][2])\n",
    "# print(alloted_hospital[1])\n",
    "# hosp[:35]\n",
    "# hosp1 = pd.DataFrame.copy(hosp,deep = True)\n",
    "# new_row = pd.DataFrame ({'no':35,\"name\":\"New Hospital\",\"address\" :\"Not Defined\",\"longitude\":x1,\"latitude\":y1,\"rounded lat\" : x1,\"rounded long\":y1},index =[1])\n",
    "# hosp1 = pd.concat([hosp1,new_row]).set_index(\"no\").reset_index()\n",
    "# hosp1\n"
   ]
  },
  {
   "cell_type": "code",
   "execution_count": 58,
   "metadata": {},
   "outputs": [],
   "source": [
    "# data.at[3,'lat'] = 0\n",
    "# data.head(n=5)"
   ]
  },
  {
   "cell_type": "code",
   "execution_count": 59,
   "metadata": {},
   "outputs": [],
   "source": [
    "# data.to_csv('alloted1.csv')"
   ]
  },
  {
   "cell_type": "code",
   "execution_count": 60,
   "metadata": {},
   "outputs": [
    {
     "output_type": "stream",
     "name": "stdout",
     "text": [
      "32 75\n"
     ]
    }
   ],
   "source": [
    "# round(numpy.random.uniform(30.0,34.0),4),round(numpy.random.uniform(73,78),4)\n",
    "t1,u1 = 32,75\n",
    "print(t1,u1)"
   ]
  },
  {
   "cell_type": "code",
   "execution_count": 75,
   "metadata": {},
   "outputs": [
    {
     "output_type": "execute_result",
     "data": {
      "text/plain": [
       "75"
      ]
     },
     "metadata": {},
     "execution_count": 75
    }
   ],
   "source": [
    "iterations =100\n",
    "x1 = t1\n",
    "y1 = u1\n",
    "y1"
   ]
  },
  {
   "cell_type": "code",
   "execution_count": 76,
   "metadata": {},
   "outputs": [
    {
     "output_type": "execute_result",
     "data": {
      "text/plain": [
       "(1000, 17)"
      ]
     },
     "metadata": {},
     "execution_count": 76
    }
   ],
   "source": [
    "# dm = reallot(y1,x1)\n",
    "data.shape\n"
   ]
  },
  {
   "cell_type": "code",
   "execution_count": 77,
   "metadata": {
    "tags": []
   },
   "outputs": [
    {
     "output_type": "stream",
     "name": "stdout",
     "text": [
      "1\n",
      "2\n",
      "3\n",
      "4\n",
      "5\n",
      "6\n",
      "7\n",
      "8\n",
      "9\n",
      "10\n",
      "11\n",
      "12\n",
      "13\n",
      "14\n",
      "15\n",
      "16\n",
      "17\n",
      "18\n",
      "19\n",
      "20\n",
      "21\n",
      "22\n",
      "23\n",
      "24\n",
      "25\n",
      "26\n",
      "27\n",
      "28\n",
      "29\n",
      "30\n",
      "31\n",
      "32\n",
      "33\n",
      "34\n",
      "35\n",
      "36\n",
      "37\n",
      "38\n",
      "39\n",
      "40\n",
      "41\n",
      "42\n",
      "43\n",
      "44\n",
      "45\n",
      "46\n",
      "47\n",
      "48\n",
      "49\n",
      "50\n",
      "51\n",
      "52\n",
      "53\n",
      "54\n",
      "55\n",
      "56\n",
      "57\n",
      "58\n",
      "59\n",
      "60\n",
      "61\n",
      "62\n",
      "63\n",
      "64\n",
      "65\n",
      "66\n",
      "67\n",
      "68\n",
      "69\n",
      "70\n",
      "71\n",
      "72\n",
      "73\n",
      "74\n",
      "75\n",
      "76\n",
      "77\n",
      "78\n",
      "79\n",
      "80\n",
      "81\n",
      "82\n",
      "83\n",
      "84\n",
      "85\n",
      "86\n",
      "87\n",
      "88\n",
      "89\n",
      "90\n",
      "91\n",
      "92\n",
      "93\n",
      "94\n",
      "95\n",
      "96\n",
      "97\n",
      "98\n",
      "99\n",
      "100\n",
      "101\n"
     ]
    }
   ],
   "source": [
    "sum1 =0\n",
    "sum2 =0\n",
    "def sin(x):\n",
    "    return math.sin(x)\n",
    "def cos(X):\n",
    "    return math.cos(X)\n",
    "p1= x1\n",
    "p2 =y1 \n",
    "x1 = 0 \n",
    "y1= 0\n",
    "tol = 1e-06\n",
    "it =0\n",
    "alpha = 0.1\n",
    "z=[0]\n",
    "e=[0]\n",
    "\n",
    "while((abs(p1-x1)>tol) and (abs(p2-y1) >tol) and (it<=iterations)):\n",
    "    it= it+1\n",
    "    x1=p1\n",
    "    y1=p2\n",
    "    dm = reallot(x1,y1)    \n",
    "    # print('it has increased')\n",
    "    for x,y in zip(dm['lat'], dm['long']):\n",
    "        a = (-1)*(0.5*sin(x-x1)+ (3.14/180)* (sin(x1*3.14/180) *cos(x*3.14/180))*math.pow(sin((y-y1)*3.14/180),2))\n",
    "        b = (-1)*(0.5*sin(y-y1)*(cos(x1*3.14/180) *cos(x*3.14/180)))\n",
    "        sum1 +=  a\n",
    "        sum2 +=  b\n",
    "    p1 = x1+alpha*(sum1)/1000\n",
    "    p2 = y1+alpha*(sum2)/1000\n",
    "    z.append(p1)\n",
    "    e.append(p2)\n",
    "    print(it)"
   ]
  },
  {
   "cell_type": "code",
   "execution_count": 89,
   "metadata": {},
   "outputs": [
    {
     "output_type": "execute_result",
     "data": {
      "text/plain": [
       "[<matplotlib.lines.Line2D at 0x1d704280>]"
      ]
     },
     "metadata": {},
     "execution_count": 89
    },
    {
     "output_type": "display_data",
     "data": {
      "text/plain": "<Figure size 720x442.8 with 2 Axes>",
      "image/svg+xml": "<?xml version=\"1.0\" encoding=\"utf-8\" standalone=\"no\"?>\r\n<!DOCTYPE svg PUBLIC \"-//W3C//DTD SVG 1.1//EN\"\r\n  \"http://www.w3.org/Graphics/SVG/1.1/DTD/svg11.dtd\">\r\n<!-- Created with matplotlib (https://matplotlib.org/) -->\r\n<svg height=\"365.392125pt\" version=\"1.1\" viewBox=\"0 0 592.125 365.392125\" width=\"592.125pt\" xmlns=\"http://www.w3.org/2000/svg\" xmlns:xlink=\"http://www.w3.org/1999/xlink\">\r\n <defs>\r\n  <style type=\"text/css\">\r\n*{stroke-linecap:butt;stroke-linejoin:round;}\r\n  </style>\r\n </defs>\r\n <g id=\"figure_1\">\r\n  <g id=\"patch_1\">\r\n   <path d=\"M 0 365.392125 \r\nL 592.125 365.392125 \r\nL 592.125 0 \r\nL 0 0 \r\nz\r\n\" style=\"fill:none;\"/>\r\n  </g>\r\n  <g id=\"axes_1\">\r\n   <g id=\"patch_2\">\r\n    <path d=\"M 26.925 341.514 \r\nL 280.561364 341.514 \r\nL 280.561364 7.2 \r\nL 26.925 7.2 \r\nz\r\n\" style=\"fill:#ffffff;\"/>\r\n   </g>\r\n   <g id=\"PathCollection_1\">\r\n    <defs>\r\n     <path d=\"M 0 3 \r\nC 0.795609 3 1.55874 2.683901 2.12132 2.12132 \r\nC 2.683901 1.55874 3 0.795609 3 0 \r\nC 3 -0.795609 2.683901 -1.55874 2.12132 -2.12132 \r\nC 1.55874 -2.683901 0.795609 -3 0 -3 \r\nC -0.795609 -3 -1.55874 -2.683901 -2.12132 -2.12132 \r\nC -2.683901 -1.55874 -3 -0.795609 -3 0 \r\nC -3 0.795609 -2.683901 1.55874 -2.12132 2.12132 \r\nC -1.55874 2.683901 -0.795609 3 0 3 \r\nz\r\n\" id=\"m96507a22d1\" style=\"stroke:#1f77b4;\"/>\r\n    </defs>\r\n    <g clip-path=\"url(#pe7bbf3bac8)\">\r\n     <use style=\"fill:#1f77b4;stroke:#1f77b4;\" x=\"38.480657\" xlink:href=\"#m96507a22d1\" y=\"326.232745\"/>\r\n     <use style=\"fill:#1f77b4;stroke:#1f77b4;\" x=\"40.763084\" xlink:href=\"#m96507a22d1\" y=\"22.988818\"/>\r\n     <use style=\"fill:#1f77b4;stroke:#1f77b4;\" x=\"43.04551\" xlink:href=\"#m96507a22d1\" y=\"23.883662\"/>\r\n     <use style=\"fill:#1f77b4;stroke:#1f77b4;\" x=\"45.327936\" xlink:href=\"#m96507a22d1\" y=\"25.204723\"/>\r\n     <use style=\"fill:#1f77b4;stroke:#1f77b4;\" x=\"47.610362\" xlink:href=\"#m96507a22d1\" y=\"26.919284\"/>\r\n     <use style=\"fill:#1f77b4;stroke:#1f77b4;\" x=\"49.892789\" xlink:href=\"#m96507a22d1\" y=\"28.973693\"/>\r\n     <use style=\"fill:#1f77b4;stroke:#1f77b4;\" x=\"52.175215\" xlink:href=\"#m96507a22d1\" y=\"31.289342\"/>\r\n     <use style=\"fill:#1f77b4;stroke:#1f77b4;\" x=\"54.457641\" xlink:href=\"#m96507a22d1\" y=\"33.763314\"/>\r\n     <use style=\"fill:#1f77b4;stroke:#1f77b4;\" x=\"56.740067\" xlink:href=\"#m96507a22d1\" y=\"36.275566\"/>\r\n     <use style=\"fill:#1f77b4;stroke:#1f77b4;\" x=\"59.022493\" xlink:href=\"#m96507a22d1\" y=\"38.70171\"/>\r\n     <use style=\"fill:#1f77b4;stroke:#1f77b4;\" x=\"61.30492\" xlink:href=\"#m96507a22d1\" y=\"40.927336\"/>\r\n     <use style=\"fill:#1f77b4;stroke:#1f77b4;\" x=\"63.587346\" xlink:href=\"#m96507a22d1\" y=\"42.858883\"/>\r\n     <use style=\"fill:#1f77b4;stroke:#1f77b4;\" x=\"65.869772\" xlink:href=\"#m96507a22d1\" y=\"44.42812\"/>\r\n     <use style=\"fill:#1f77b4;stroke:#1f77b4;\" x=\"68.152198\" xlink:href=\"#m96507a22d1\" y=\"45.590572\"/>\r\n     <use style=\"fill:#1f77b4;stroke:#1f77b4;\" x=\"70.434625\" xlink:href=\"#m96507a22d1\" y=\"46.320432\"/>\r\n     <use style=\"fill:#1f77b4;stroke:#1f77b4;\" x=\"72.717051\" xlink:href=\"#m96507a22d1\" y=\"46.604815\"/>\r\n     <use style=\"fill:#1f77b4;stroke:#1f77b4;\" x=\"74.999477\" xlink:href=\"#m96507a22d1\" y=\"46.439434\"/>\r\n     <use style=\"fill:#1f77b4;stroke:#1f77b4;\" x=\"77.281903\" xlink:href=\"#m96507a22d1\" y=\"45.826787\"/>\r\n     <use style=\"fill:#1f77b4;stroke:#1f77b4;\" x=\"79.564329\" xlink:href=\"#m96507a22d1\" y=\"44.777217\"/>\r\n     <use style=\"fill:#1f77b4;stroke:#1f77b4;\" x=\"81.846756\" xlink:href=\"#m96507a22d1\" y=\"43.312639\"/>\r\n     <use style=\"fill:#1f77b4;stroke:#1f77b4;\" x=\"84.129182\" xlink:href=\"#m96507a22d1\" y=\"41.472061\"/>\r\n     <use style=\"fill:#1f77b4;stroke:#1f77b4;\" x=\"86.411608\" xlink:href=\"#m96507a22d1\" y=\"39.317097\"/>\r\n     <use style=\"fill:#1f77b4;stroke:#1f77b4;\" x=\"88.694034\" xlink:href=\"#m96507a22d1\" y=\"36.934758\"/>\r\n     <use style=\"fill:#1f77b4;stroke:#1f77b4;\" x=\"90.976461\" xlink:href=\"#m96507a22d1\" y=\"34.434734\"/>\r\n     <use style=\"fill:#1f77b4;stroke:#1f77b4;\" x=\"93.258887\" xlink:href=\"#m96507a22d1\" y=\"31.940068\"/>\r\n     <use style=\"fill:#1f77b4;stroke:#1f77b4;\" x=\"95.541313\" xlink:href=\"#m96507a22d1\" y=\"29.573317\"/>\r\n     <use style=\"fill:#1f77b4;stroke:#1f77b4;\" x=\"97.823739\" xlink:href=\"#m96507a22d1\" y=\"27.442893\"/>\r\n     <use style=\"fill:#1f77b4;stroke:#1f77b4;\" x=\"100.106165\" xlink:href=\"#m96507a22d1\" y=\"25.634161\"/>\r\n     <use style=\"fill:#1f77b4;stroke:#1f77b4;\" x=\"102.388592\" xlink:href=\"#m96507a22d1\" y=\"24.20716\"/>\r\n     <use style=\"fill:#1f77b4;stroke:#1f77b4;\" x=\"104.671018\" xlink:href=\"#m96507a22d1\" y=\"23.199649\"/>\r\n     <use style=\"fill:#1f77b4;stroke:#1f77b4;\" x=\"106.953444\" xlink:href=\"#m96507a22d1\" y=\"22.632657\"/>\r\n     <use style=\"fill:#1f77b4;stroke:#1f77b4;\" x=\"109.23587\" xlink:href=\"#m96507a22d1\" y=\"22.515863\"/>\r\n     <use style=\"fill:#1f77b4;stroke:#1f77b4;\" x=\"111.518297\" xlink:href=\"#m96507a22d1\" y=\"22.851063\"/>\r\n     <use style=\"fill:#1f77b4;stroke:#1f77b4;\" x=\"113.800723\" xlink:href=\"#m96507a22d1\" y=\"23.632922\"/>\r\n     <use style=\"fill:#1f77b4;stroke:#1f77b4;\" x=\"116.083149\" xlink:href=\"#m96507a22d1\" y=\"24.846854\"/>\r\n     <use style=\"fill:#1f77b4;stroke:#1f77b4;\" x=\"118.365575\" xlink:href=\"#m96507a22d1\" y=\"26.464473\"/>\r\n     <use style=\"fill:#1f77b4;stroke:#1f77b4;\" x=\"120.648002\" xlink:href=\"#m96507a22d1\" y=\"28.437857\"/>\r\n     <use style=\"fill:#1f77b4;stroke:#1f77b4;\" x=\"122.930428\" xlink:href=\"#m96507a22d1\" y=\"30.694828\"/>\r\n     <use style=\"fill:#1f77b4;stroke:#1f77b4;\" x=\"125.212854\" xlink:href=\"#m96507a22d1\" y=\"33.138178\"/>\r\n     <use style=\"fill:#1f77b4;stroke:#1f77b4;\" x=\"127.49528\" xlink:href=\"#m96507a22d1\" y=\"35.651168\"/>\r\n     <use style=\"fill:#1f77b4;stroke:#1f77b4;\" x=\"129.777706\" xlink:href=\"#m96507a22d1\" y=\"38.109163\"/>\r\n     <use style=\"fill:#1f77b4;stroke:#1f77b4;\" x=\"132.060133\" xlink:href=\"#m96507a22d1\" y=\"40.394042\"/>\r\n     <use style=\"fill:#1f77b4;stroke:#1f77b4;\" x=\"134.342559\" xlink:href=\"#m96507a22d1\" y=\"42.406322\"/>\r\n     <use style=\"fill:#1f77b4;stroke:#1f77b4;\" x=\"136.624985\" xlink:href=\"#m96507a22d1\" y=\"44.071332\"/>\r\n     <use style=\"fill:#1f77b4;stroke:#1f77b4;\" x=\"138.907411\" xlink:href=\"#m96507a22d1\" y=\"45.338984\"/>\r\n     <use style=\"fill:#1f77b4;stroke:#1f77b4;\" x=\"141.189838\" xlink:href=\"#m96507a22d1\" y=\"46.179286\"/>\r\n     <use style=\"fill:#1f77b4;stroke:#1f77b4;\" x=\"143.472264\" xlink:href=\"#m96507a22d1\" y=\"46.576529\"/>\r\n     <use style=\"fill:#1f77b4;stroke:#1f77b4;\" x=\"145.75469\" xlink:href=\"#m96507a22d1\" y=\"46.524477\"/>\r\n     <use style=\"fill:#1f77b4;stroke:#1f77b4;\" x=\"148.037116\" xlink:href=\"#m96507a22d1\" y=\"46.023864\"/>\r\n     <use style=\"fill:#1f77b4;stroke:#1f77b4;\" x=\"150.319542\" xlink:href=\"#m96507a22d1\" y=\"45.082731\"/>\r\n     <use style=\"fill:#1f77b4;stroke:#1f77b4;\" x=\"152.601969\" xlink:href=\"#m96507a22d1\" y=\"43.719535\"/>\r\n     <use style=\"fill:#1f77b4;stroke:#1f77b4;\" x=\"154.884395\" xlink:href=\"#m96507a22d1\" y=\"41.968354\"/>\r\n     <use style=\"fill:#1f77b4;stroke:#1f77b4;\" x=\"157.166821\" xlink:href=\"#m96507a22d1\" y=\"39.884641\"/>\r\n     <use style=\"fill:#1f77b4;stroke:#1f77b4;\" x=\"159.449247\" xlink:href=\"#m96507a22d1\" y=\"37.548986\"/>\r\n     <use style=\"fill:#1f77b4;stroke:#1f77b4;\" x=\"161.731674\" xlink:href=\"#m96507a22d1\" y=\"35.065997\"/>\r\n     <use style=\"fill:#1f77b4;stroke:#1f77b4;\" x=\"164.0141\" xlink:href=\"#m96507a22d1\" y=\"32.556575\"/>\r\n     <use style=\"fill:#1f77b4;stroke:#1f77b4;\" x=\"166.296526\" xlink:href=\"#m96507a22d1\" y=\"30.144825\"/>\r\n     <use style=\"fill:#1f77b4;stroke:#1f77b4;\" x=\"168.578952\" xlink:href=\"#m96507a22d1\" y=\"27.943835\"/>\r\n     <use style=\"fill:#1f77b4;stroke:#1f77b4;\" x=\"170.861379\" xlink:href=\"#m96507a22d1\" y=\"26.04526\"/>\r\n     <use style=\"fill:#1f77b4;stroke:#1f77b4;\" x=\"173.143805\" xlink:href=\"#m96507a22d1\" y=\"24.515386\"/>\r\n     <use style=\"fill:#1f77b4;stroke:#1f77b4;\" x=\"175.426231\" xlink:href=\"#m96507a22d1\" y=\"23.397079\"/>\r\n     <use style=\"fill:#1f77b4;stroke:#1f77b4;\" x=\"177.708657\" xlink:href=\"#m96507a22d1\" y=\"22.715001\"/>\r\n     <use style=\"fill:#1f77b4;stroke:#1f77b4;\" x=\"179.991083\" xlink:href=\"#m96507a22d1\" y=\"22.481255\"/>\r\n     <use style=\"fill:#1f77b4;stroke:#1f77b4;\" x=\"182.27351\" xlink:href=\"#m96507a22d1\" y=\"22.699456\"/>\r\n     <use style=\"fill:#1f77b4;stroke:#1f77b4;\" x=\"184.555936\" xlink:href=\"#m96507a22d1\" y=\"23.366234\"/>\r\n     <use style=\"fill:#1f77b4;stroke:#1f77b4;\" x=\"186.838362\" xlink:href=\"#m96507a22d1\" y=\"24.469829\"/>\r\n     <use style=\"fill:#1f77b4;stroke:#1f77b4;\" x=\"189.120788\" xlink:href=\"#m96507a22d1\" y=\"25.986097\"/>\r\n     <use style=\"fill:#1f77b4;stroke:#1f77b4;\" x=\"191.403215\" xlink:href=\"#m96507a22d1\" y=\"27.872892\"/>\r\n     <use style=\"fill:#1f77b4;stroke:#1f77b4;\" x=\"193.685641\" xlink:href=\"#m96507a22d1\" y=\"30.064791\"/>\r\n     <use style=\"fill:#1f77b4;stroke:#1f77b4;\" x=\"195.968067\" xlink:href=\"#m96507a22d1\" y=\"32.470984\"/>\r\n     <use style=\"fill:#1f77b4;stroke:#1f77b4;\" x=\"198.250493\" xlink:href=\"#m96507a22d1\" y=\"34.978978\"/>\r\n     <use style=\"fill:#1f77b4;stroke:#1f77b4;\" x=\"200.532919\" xlink:href=\"#m96507a22d1\" y=\"37.46482\"/>\r\n     <use style=\"fill:#1f77b4;stroke:#1f77b4;\" x=\"202.815346\" xlink:href=\"#m96507a22d1\" y=\"39.807259\"/>\r\n     <use style=\"fill:#1f77b4;stroke:#1f77b4;\" x=\"205.097772\" xlink:href=\"#m96507a22d1\" y=\"41.900954\"/>\r\n     <use style=\"fill:#1f77b4;stroke:#1f77b4;\" x=\"207.380198\" xlink:href=\"#m96507a22d1\" y=\"43.664427\"/>\r\n     <use style=\"fill:#1f77b4;stroke:#1f77b4;\" x=\"209.662624\" xlink:href=\"#m96507a22d1\" y=\"45.041396\"/>\r\n     <use style=\"fill:#1f77b4;stroke:#1f77b4;\" x=\"211.945051\" xlink:href=\"#m96507a22d1\" y=\"45.997131\"/>\r\n     <use style=\"fill:#1f77b4;stroke:#1f77b4;\" x=\"214.227477\" xlink:href=\"#m96507a22d1\" y=\"46.512723\"/>\r\n     <use style=\"fill:#1f77b4;stroke:#1f77b4;\" x=\"216.509903\" xlink:href=\"#m96507a22d1\" y=\"46.579837\"/>\r\n     <use style=\"fill:#1f77b4;stroke:#1f77b4;\" x=\"218.792329\" xlink:href=\"#m96507a22d1\" y=\"46.197513\"/>\r\n     <use style=\"fill:#1f77b4;stroke:#1f77b4;\" x=\"221.074755\" xlink:href=\"#m96507a22d1\" y=\"45.371735\"/>\r\n     <use style=\"fill:#1f77b4;stroke:#1f77b4;\" x=\"223.357182\" xlink:href=\"#m96507a22d1\" y=\"44.117841\"/>\r\n     <use style=\"fill:#1f77b4;stroke:#1f77b4;\" x=\"225.639608\" xlink:href=\"#m96507a22d1\" y=\"42.465275\"/>\r\n     <use style=\"fill:#1f77b4;stroke:#1f77b4;\" x=\"227.922034\" xlink:href=\"#m96507a22d1\" y=\"40.463397\"/>\r\n     <use style=\"fill:#1f77b4;stroke:#1f77b4;\" x=\"230.20446\" xlink:href=\"#m96507a22d1\" y=\"38.186052\"/>\r\n     <use style=\"fill:#1f77b4;stroke:#1f77b4;\" x=\"232.486887\" xlink:href=\"#m96507a22d1\" y=\"35.731984\"/>\r\n     <use style=\"fill:#1f77b4;stroke:#1f77b4;\" x=\"234.769313\" xlink:href=\"#m96507a22d1\" y=\"33.218881\"/>\r\n     <use style=\"fill:#1f77b4;stroke:#1f77b4;\" x=\"237.051739\" xlink:href=\"#m96507a22d1\" y=\"30.771398\"/>\r\n     <use style=\"fill:#1f77b4;stroke:#1f77b4;\" x=\"239.334165\" xlink:href=\"#m96507a22d1\" y=\"28.506747\"/>\r\n     <use style=\"fill:#1f77b4;stroke:#1f77b4;\" x=\"241.616592\" xlink:href=\"#m96507a22d1\" y=\"26.522894\"/>\r\n     <use style=\"fill:#1f77b4;stroke:#1f77b4;\" x=\"243.899018\" xlink:href=\"#m96507a22d1\" y=\"24.89285\"/>\r\n     <use style=\"fill:#1f77b4;stroke:#1f77b4;\" x=\"246.181444\" xlink:href=\"#m96507a22d1\" y=\"23.665269\"/>\r\n     <use style=\"fill:#1f77b4;stroke:#1f77b4;\" x=\"248.46387\" xlink:href=\"#m96507a22d1\" y=\"22.869082\"/>\r\n     <use style=\"fill:#1f77b4;stroke:#1f77b4;\" x=\"250.746296\" xlink:href=\"#m96507a22d1\" y=\"22.519245\"/>\r\n     <use style=\"fill:#1f77b4;stroke:#1f77b4;\" x=\"253.028723\" xlink:href=\"#m96507a22d1\" y=\"22.621349\"/>\r\n     <use style=\"fill:#1f77b4;stroke:#1f77b4;\" x=\"255.311149\" xlink:href=\"#m96507a22d1\" y=\"23.173831\"/>\r\n     <use style=\"fill:#1f77b4;stroke:#1f77b4;\" x=\"257.593575\" xlink:href=\"#m96507a22d1\" y=\"24.167316\"/>\r\n     <use style=\"fill:#1f77b4;stroke:#1f77b4;\" x=\"259.876001\" xlink:href=\"#m96507a22d1\" y=\"25.581227\"/>\r\n     <use style=\"fill:#1f77b4;stroke:#1f77b4;\" x=\"262.158428\" xlink:href=\"#m96507a22d1\" y=\"27.378448\"/>\r\n     <use style=\"fill:#1f77b4;stroke:#1f77b4;\" x=\"264.440854\" xlink:href=\"#m96507a22d1\" y=\"29.499739\"/>\r\n     <use style=\"fill:#1f77b4;stroke:#1f77b4;\" x=\"266.72328\" xlink:href=\"#m96507a22d1\" y=\"31.860559\"/>\r\n     <use style=\"fill:#1f77b4;stroke:#1f77b4;\" x=\"269.005706\" xlink:href=\"#m96507a22d1\" y=\"34.353142\"/>\r\n    </g>\r\n   </g>\r\n   <g id=\"matplotlib.axis_1\">\r\n    <g id=\"xtick_1\">\r\n     <g id=\"line2d_1\">\r\n      <defs>\r\n       <path d=\"M 0 0 \r\nL 0 3.5 \r\n\" id=\"ma73c002d59\" style=\"stroke:#000000;stroke-width:0.8;\"/>\r\n      </defs>\r\n      <g>\r\n       <use style=\"stroke:#000000;stroke-width:0.8;\" x=\"38.480657\" xlink:href=\"#ma73c002d59\" y=\"341.514\"/>\r\n      </g>\r\n     </g>\r\n     <g id=\"text_1\">\r\n      <!-- 0 -->\r\n      <defs>\r\n       <path d=\"M 31.78125 66.40625 \r\nQ 24.171875 66.40625 20.328125 58.90625 \r\nQ 16.5 51.421875 16.5 36.375 \r\nQ 16.5 21.390625 20.328125 13.890625 \r\nQ 24.171875 6.390625 31.78125 6.390625 \r\nQ 39.453125 6.390625 43.28125 13.890625 \r\nQ 47.125 21.390625 47.125 36.375 \r\nQ 47.125 51.421875 43.28125 58.90625 \r\nQ 39.453125 66.40625 31.78125 66.40625 \r\nz\r\nM 31.78125 74.21875 \r\nQ 44.046875 74.21875 50.515625 64.515625 \r\nQ 56.984375 54.828125 56.984375 36.375 \r\nQ 56.984375 17.96875 50.515625 8.265625 \r\nQ 44.046875 -1.421875 31.78125 -1.421875 \r\nQ 19.53125 -1.421875 13.0625 8.265625 \r\nQ 6.59375 17.96875 6.59375 36.375 \r\nQ 6.59375 54.828125 13.0625 64.515625 \r\nQ 19.53125 74.21875 31.78125 74.21875 \r\nz\r\n\" id=\"DejaVuSans-48\"/>\r\n      </defs>\r\n      <g transform=\"translate(35.299407 356.112437)scale(0.1 -0.1)\">\r\n       <use xlink:href=\"#DejaVuSans-48\"/>\r\n      </g>\r\n     </g>\r\n    </g>\r\n    <g id=\"xtick_2\">\r\n     <g id=\"line2d_2\">\r\n      <g>\r\n       <use style=\"stroke:#000000;stroke-width:0.8;\" x=\"83.681647\" xlink:href=\"#ma73c002d59\" y=\"341.514\"/>\r\n      </g>\r\n     </g>\r\n     <g id=\"text_2\">\r\n      <!-- 20 -->\r\n      <defs>\r\n       <path d=\"M 19.1875 8.296875 \r\nL 53.609375 8.296875 \r\nL 53.609375 0 \r\nL 7.328125 0 \r\nL 7.328125 8.296875 \r\nQ 12.9375 14.109375 22.625 23.890625 \r\nQ 32.328125 33.6875 34.8125 36.53125 \r\nQ 39.546875 41.84375 41.421875 45.53125 \r\nQ 43.3125 49.21875 43.3125 52.78125 \r\nQ 43.3125 58.59375 39.234375 62.25 \r\nQ 35.15625 65.921875 28.609375 65.921875 \r\nQ 23.96875 65.921875 18.8125 64.3125 \r\nQ 13.671875 62.703125 7.8125 59.421875 \r\nL 7.8125 69.390625 \r\nQ 13.765625 71.78125 18.9375 73 \r\nQ 24.125 74.21875 28.421875 74.21875 \r\nQ 39.75 74.21875 46.484375 68.546875 \r\nQ 53.21875 62.890625 53.21875 53.421875 \r\nQ 53.21875 48.921875 51.53125 44.890625 \r\nQ 49.859375 40.875 45.40625 35.40625 \r\nQ 44.1875 33.984375 37.640625 27.21875 \r\nQ 31.109375 20.453125 19.1875 8.296875 \r\nz\r\n\" id=\"DejaVuSans-50\"/>\r\n      </defs>\r\n      <g transform=\"translate(77.319147 356.112437)scale(0.1 -0.1)\">\r\n       <use xlink:href=\"#DejaVuSans-50\"/>\r\n       <use x=\"63.623047\" xlink:href=\"#DejaVuSans-48\"/>\r\n      </g>\r\n     </g>\r\n    </g>\r\n    <g id=\"xtick_3\">\r\n     <g id=\"line2d_3\">\r\n      <g>\r\n       <use style=\"stroke:#000000;stroke-width:0.8;\" x=\"128.882637\" xlink:href=\"#ma73c002d59\" y=\"341.514\"/>\r\n      </g>\r\n     </g>\r\n     <g id=\"text_3\">\r\n      <!-- 40 -->\r\n      <defs>\r\n       <path d=\"M 37.796875 64.3125 \r\nL 12.890625 25.390625 \r\nL 37.796875 25.390625 \r\nz\r\nM 35.203125 72.90625 \r\nL 47.609375 72.90625 \r\nL 47.609375 25.390625 \r\nL 58.015625 25.390625 \r\nL 58.015625 17.1875 \r\nL 47.609375 17.1875 \r\nL 47.609375 0 \r\nL 37.796875 0 \r\nL 37.796875 17.1875 \r\nL 4.890625 17.1875 \r\nL 4.890625 26.703125 \r\nz\r\n\" id=\"DejaVuSans-52\"/>\r\n      </defs>\r\n      <g transform=\"translate(122.520137 356.112437)scale(0.1 -0.1)\">\r\n       <use xlink:href=\"#DejaVuSans-52\"/>\r\n       <use x=\"63.623047\" xlink:href=\"#DejaVuSans-48\"/>\r\n      </g>\r\n     </g>\r\n    </g>\r\n    <g id=\"xtick_4\">\r\n     <g id=\"line2d_4\">\r\n      <g>\r\n       <use style=\"stroke:#000000;stroke-width:0.8;\" x=\"174.083627\" xlink:href=\"#ma73c002d59\" y=\"341.514\"/>\r\n      </g>\r\n     </g>\r\n     <g id=\"text_4\">\r\n      <!-- 60 -->\r\n      <defs>\r\n       <path d=\"M 33.015625 40.375 \r\nQ 26.375 40.375 22.484375 35.828125 \r\nQ 18.609375 31.296875 18.609375 23.390625 \r\nQ 18.609375 15.53125 22.484375 10.953125 \r\nQ 26.375 6.390625 33.015625 6.390625 \r\nQ 39.65625 6.390625 43.53125 10.953125 \r\nQ 47.40625 15.53125 47.40625 23.390625 \r\nQ 47.40625 31.296875 43.53125 35.828125 \r\nQ 39.65625 40.375 33.015625 40.375 \r\nz\r\nM 52.59375 71.296875 \r\nL 52.59375 62.3125 \r\nQ 48.875 64.0625 45.09375 64.984375 \r\nQ 41.3125 65.921875 37.59375 65.921875 \r\nQ 27.828125 65.921875 22.671875 59.328125 \r\nQ 17.53125 52.734375 16.796875 39.40625 \r\nQ 19.671875 43.65625 24.015625 45.921875 \r\nQ 28.375 48.1875 33.59375 48.1875 \r\nQ 44.578125 48.1875 50.953125 41.515625 \r\nQ 57.328125 34.859375 57.328125 23.390625 \r\nQ 57.328125 12.15625 50.6875 5.359375 \r\nQ 44.046875 -1.421875 33.015625 -1.421875 \r\nQ 20.359375 -1.421875 13.671875 8.265625 \r\nQ 6.984375 17.96875 6.984375 36.375 \r\nQ 6.984375 53.65625 15.1875 63.9375 \r\nQ 23.390625 74.21875 37.203125 74.21875 \r\nQ 40.921875 74.21875 44.703125 73.484375 \r\nQ 48.484375 72.75 52.59375 71.296875 \r\nz\r\n\" id=\"DejaVuSans-54\"/>\r\n      </defs>\r\n      <g transform=\"translate(167.721127 356.112437)scale(0.1 -0.1)\">\r\n       <use xlink:href=\"#DejaVuSans-54\"/>\r\n       <use x=\"63.623047\" xlink:href=\"#DejaVuSans-48\"/>\r\n      </g>\r\n     </g>\r\n    </g>\r\n    <g id=\"xtick_5\">\r\n     <g id=\"line2d_5\">\r\n      <g>\r\n       <use style=\"stroke:#000000;stroke-width:0.8;\" x=\"219.284617\" xlink:href=\"#ma73c002d59\" y=\"341.514\"/>\r\n      </g>\r\n     </g>\r\n     <g id=\"text_5\">\r\n      <!-- 80 -->\r\n      <defs>\r\n       <path d=\"M 31.78125 34.625 \r\nQ 24.75 34.625 20.71875 30.859375 \r\nQ 16.703125 27.09375 16.703125 20.515625 \r\nQ 16.703125 13.921875 20.71875 10.15625 \r\nQ 24.75 6.390625 31.78125 6.390625 \r\nQ 38.8125 6.390625 42.859375 10.171875 \r\nQ 46.921875 13.96875 46.921875 20.515625 \r\nQ 46.921875 27.09375 42.890625 30.859375 \r\nQ 38.875 34.625 31.78125 34.625 \r\nz\r\nM 21.921875 38.8125 \r\nQ 15.578125 40.375 12.03125 44.71875 \r\nQ 8.5 49.078125 8.5 55.328125 \r\nQ 8.5 64.0625 14.71875 69.140625 \r\nQ 20.953125 74.21875 31.78125 74.21875 \r\nQ 42.671875 74.21875 48.875 69.140625 \r\nQ 55.078125 64.0625 55.078125 55.328125 \r\nQ 55.078125 49.078125 51.53125 44.71875 \r\nQ 48 40.375 41.703125 38.8125 \r\nQ 48.828125 37.15625 52.796875 32.3125 \r\nQ 56.78125 27.484375 56.78125 20.515625 \r\nQ 56.78125 9.90625 50.3125 4.234375 \r\nQ 43.84375 -1.421875 31.78125 -1.421875 \r\nQ 19.734375 -1.421875 13.25 4.234375 \r\nQ 6.78125 9.90625 6.78125 20.515625 \r\nQ 6.78125 27.484375 10.78125 32.3125 \r\nQ 14.796875 37.15625 21.921875 38.8125 \r\nz\r\nM 18.3125 54.390625 \r\nQ 18.3125 48.734375 21.84375 45.5625 \r\nQ 25.390625 42.390625 31.78125 42.390625 \r\nQ 38.140625 42.390625 41.71875 45.5625 \r\nQ 45.3125 48.734375 45.3125 54.390625 \r\nQ 45.3125 60.0625 41.71875 63.234375 \r\nQ 38.140625 66.40625 31.78125 66.40625 \r\nQ 25.390625 66.40625 21.84375 63.234375 \r\nQ 18.3125 60.0625 18.3125 54.390625 \r\nz\r\n\" id=\"DejaVuSans-56\"/>\r\n      </defs>\r\n      <g transform=\"translate(212.922117 356.112437)scale(0.1 -0.1)\">\r\n       <use xlink:href=\"#DejaVuSans-56\"/>\r\n       <use x=\"63.623047\" xlink:href=\"#DejaVuSans-48\"/>\r\n      </g>\r\n     </g>\r\n    </g>\r\n    <g id=\"xtick_6\">\r\n     <g id=\"line2d_6\">\r\n      <g>\r\n       <use style=\"stroke:#000000;stroke-width:0.8;\" x=\"264.485607\" xlink:href=\"#ma73c002d59\" y=\"341.514\"/>\r\n      </g>\r\n     </g>\r\n     <g id=\"text_6\">\r\n      <!-- 100 -->\r\n      <defs>\r\n       <path d=\"M 12.40625 8.296875 \r\nL 28.515625 8.296875 \r\nL 28.515625 63.921875 \r\nL 10.984375 60.40625 \r\nL 10.984375 69.390625 \r\nL 28.421875 72.90625 \r\nL 38.28125 72.90625 \r\nL 38.28125 8.296875 \r\nL 54.390625 8.296875 \r\nL 54.390625 0 \r\nL 12.40625 0 \r\nz\r\n\" id=\"DejaVuSans-49\"/>\r\n      </defs>\r\n      <g transform=\"translate(254.941857 356.112437)scale(0.1 -0.1)\">\r\n       <use xlink:href=\"#DejaVuSans-49\"/>\r\n       <use x=\"63.623047\" xlink:href=\"#DejaVuSans-48\"/>\r\n       <use x=\"127.246094\" xlink:href=\"#DejaVuSans-48\"/>\r\n      </g>\r\n     </g>\r\n    </g>\r\n   </g>\r\n   <g id=\"matplotlib.axis_2\">\r\n    <g id=\"ytick_1\">\r\n     <g id=\"line2d_7\">\r\n      <defs>\r\n       <path d=\"M 0 0 \r\nL -3.5 0 \r\n\" id=\"mf88d4cf37e\" style=\"stroke:#000000;stroke-width:0.8;\"/>\r\n      </defs>\r\n      <g>\r\n       <use style=\"stroke:#000000;stroke-width:0.8;\" x=\"26.925\" xlink:href=\"#mf88d4cf37e\" y=\"326.232745\"/>\r\n      </g>\r\n     </g>\r\n     <g id=\"text_7\">\r\n      <!-- 0 -->\r\n      <g transform=\"translate(13.5625 330.031964)scale(0.1 -0.1)\">\r\n       <use xlink:href=\"#DejaVuSans-48\"/>\r\n      </g>\r\n     </g>\r\n    </g>\r\n    <g id=\"ytick_2\">\r\n     <g id=\"line2d_8\">\r\n      <g>\r\n       <use style=\"stroke:#000000;stroke-width:0.8;\" x=\"26.925\" xlink:href=\"#mf88d4cf37e\" y=\"278.780398\"/>\r\n      </g>\r\n     </g>\r\n     <g id=\"text_8\">\r\n      <!-- 5 -->\r\n      <defs>\r\n       <path d=\"M 10.796875 72.90625 \r\nL 49.515625 72.90625 \r\nL 49.515625 64.59375 \r\nL 19.828125 64.59375 \r\nL 19.828125 46.734375 \r\nQ 21.96875 47.46875 24.109375 47.828125 \r\nQ 26.265625 48.1875 28.421875 48.1875 \r\nQ 40.625 48.1875 47.75 41.5 \r\nQ 54.890625 34.8125 54.890625 23.390625 \r\nQ 54.890625 11.625 47.5625 5.09375 \r\nQ 40.234375 -1.421875 26.90625 -1.421875 \r\nQ 22.3125 -1.421875 17.546875 -0.640625 \r\nQ 12.796875 0.140625 7.71875 1.703125 \r\nL 7.71875 11.625 \r\nQ 12.109375 9.234375 16.796875 8.0625 \r\nQ 21.484375 6.890625 26.703125 6.890625 \r\nQ 35.15625 6.890625 40.078125 11.328125 \r\nQ 45.015625 15.765625 45.015625 23.390625 \r\nQ 45.015625 31 40.078125 35.4375 \r\nQ 35.15625 39.890625 26.703125 39.890625 \r\nQ 22.75 39.890625 18.8125 39.015625 \r\nQ 14.890625 38.140625 10.796875 36.28125 \r\nz\r\n\" id=\"DejaVuSans-53\"/>\r\n      </defs>\r\n      <g transform=\"translate(13.5625 282.579616)scale(0.1 -0.1)\">\r\n       <use xlink:href=\"#DejaVuSans-53\"/>\r\n      </g>\r\n     </g>\r\n    </g>\r\n    <g id=\"ytick_3\">\r\n     <g id=\"line2d_9\">\r\n      <g>\r\n       <use style=\"stroke:#000000;stroke-width:0.8;\" x=\"26.925\" xlink:href=\"#mf88d4cf37e\" y=\"231.32805\"/>\r\n      </g>\r\n     </g>\r\n     <g id=\"text_9\">\r\n      <!-- 10 -->\r\n      <g transform=\"translate(7.2 235.127268)scale(0.1 -0.1)\">\r\n       <use xlink:href=\"#DejaVuSans-49\"/>\r\n       <use x=\"63.623047\" xlink:href=\"#DejaVuSans-48\"/>\r\n      </g>\r\n     </g>\r\n    </g>\r\n    <g id=\"ytick_4\">\r\n     <g id=\"line2d_10\">\r\n      <g>\r\n       <use style=\"stroke:#000000;stroke-width:0.8;\" x=\"26.925\" xlink:href=\"#mf88d4cf37e\" y=\"183.875702\"/>\r\n      </g>\r\n     </g>\r\n     <g id=\"text_10\">\r\n      <!-- 15 -->\r\n      <g transform=\"translate(7.2 187.674921)scale(0.1 -0.1)\">\r\n       <use xlink:href=\"#DejaVuSans-49\"/>\r\n       <use x=\"63.623047\" xlink:href=\"#DejaVuSans-53\"/>\r\n      </g>\r\n     </g>\r\n    </g>\r\n    <g id=\"ytick_5\">\r\n     <g id=\"line2d_11\">\r\n      <g>\r\n       <use style=\"stroke:#000000;stroke-width:0.8;\" x=\"26.925\" xlink:href=\"#mf88d4cf37e\" y=\"136.423354\"/>\r\n      </g>\r\n     </g>\r\n     <g id=\"text_11\">\r\n      <!-- 20 -->\r\n      <g transform=\"translate(7.2 140.222573)scale(0.1 -0.1)\">\r\n       <use xlink:href=\"#DejaVuSans-50\"/>\r\n       <use x=\"63.623047\" xlink:href=\"#DejaVuSans-48\"/>\r\n      </g>\r\n     </g>\r\n    </g>\r\n    <g id=\"ytick_6\">\r\n     <g id=\"line2d_12\">\r\n      <g>\r\n       <use style=\"stroke:#000000;stroke-width:0.8;\" x=\"26.925\" xlink:href=\"#mf88d4cf37e\" y=\"88.971006\"/>\r\n      </g>\r\n     </g>\r\n     <g id=\"text_12\">\r\n      <!-- 25 -->\r\n      <g transform=\"translate(7.2 92.770225)scale(0.1 -0.1)\">\r\n       <use xlink:href=\"#DejaVuSans-50\"/>\r\n       <use x=\"63.623047\" xlink:href=\"#DejaVuSans-53\"/>\r\n      </g>\r\n     </g>\r\n    </g>\r\n    <g id=\"ytick_7\">\r\n     <g id=\"line2d_13\">\r\n      <g>\r\n       <use style=\"stroke:#000000;stroke-width:0.8;\" x=\"26.925\" xlink:href=\"#mf88d4cf37e\" y=\"41.518658\"/>\r\n      </g>\r\n     </g>\r\n     <g id=\"text_13\">\r\n      <!-- 30 -->\r\n      <defs>\r\n       <path d=\"M 40.578125 39.3125 \r\nQ 47.65625 37.796875 51.625 33 \r\nQ 55.609375 28.21875 55.609375 21.1875 \r\nQ 55.609375 10.40625 48.1875 4.484375 \r\nQ 40.765625 -1.421875 27.09375 -1.421875 \r\nQ 22.515625 -1.421875 17.65625 -0.515625 \r\nQ 12.796875 0.390625 7.625 2.203125 \r\nL 7.625 11.71875 \r\nQ 11.71875 9.328125 16.59375 8.109375 \r\nQ 21.484375 6.890625 26.8125 6.890625 \r\nQ 36.078125 6.890625 40.9375 10.546875 \r\nQ 45.796875 14.203125 45.796875 21.1875 \r\nQ 45.796875 27.640625 41.28125 31.265625 \r\nQ 36.765625 34.90625 28.71875 34.90625 \r\nL 20.21875 34.90625 \r\nL 20.21875 43.015625 \r\nL 29.109375 43.015625 \r\nQ 36.375 43.015625 40.234375 45.921875 \r\nQ 44.09375 48.828125 44.09375 54.296875 \r\nQ 44.09375 59.90625 40.109375 62.90625 \r\nQ 36.140625 65.921875 28.71875 65.921875 \r\nQ 24.65625 65.921875 20.015625 65.03125 \r\nQ 15.375 64.15625 9.8125 62.3125 \r\nL 9.8125 71.09375 \r\nQ 15.4375 72.65625 20.34375 73.4375 \r\nQ 25.25 74.21875 29.59375 74.21875 \r\nQ 40.828125 74.21875 47.359375 69.109375 \r\nQ 53.90625 64.015625 53.90625 55.328125 \r\nQ 53.90625 49.265625 50.4375 45.09375 \r\nQ 46.96875 40.921875 40.578125 39.3125 \r\nz\r\n\" id=\"DejaVuSans-51\"/>\r\n      </defs>\r\n      <g transform=\"translate(7.2 45.317877)scale(0.1 -0.1)\">\r\n       <use xlink:href=\"#DejaVuSans-51\"/>\r\n       <use x=\"63.623047\" xlink:href=\"#DejaVuSans-48\"/>\r\n      </g>\r\n     </g>\r\n    </g>\r\n   </g>\r\n   <g id=\"line2d_14\">\r\n    <path clip-path=\"url(#pe7bbf3bac8)\" d=\"M 38.480657 36.941646 \r\nL 40.740707 36.941646 \r\nL 43.000756 36.941646 \r\nL 45.260806 36.941646 \r\nL 47.520855 36.941646 \r\nL 49.780905 36.941646 \r\nL 52.040954 36.941646 \r\nL 54.301004 36.941646 \r\nL 56.561053 36.941646 \r\nL 58.821103 36.941646 \r\nL 61.081152 36.941646 \r\nL 63.341202 36.941646 \r\nL 65.601251 36.941646 \r\nL 67.861301 36.941646 \r\nL 70.12135 36.941646 \r\nL 72.3814 36.941646 \r\nL 74.641449 36.941646 \r\nL 76.901499 36.941646 \r\nL 79.161548 36.941646 \r\nL 81.421598 36.941646 \r\nL 83.681647 36.941646 \r\nL 85.941697 36.941646 \r\nL 88.201746 36.941646 \r\nL 90.461796 36.941646 \r\nL 92.721845 36.941646 \r\nL 94.981895 36.941646 \r\nL 97.241944 36.941646 \r\nL 99.501994 36.941646 \r\nL 101.762043 36.941646 \r\nL 104.022093 36.941646 \r\nL 106.282142 36.941646 \r\nL 108.542192 36.941646 \r\nL 110.802241 36.941646 \r\nL 113.062291 36.941646 \r\nL 115.32234 36.941646 \r\nL 117.58239 36.941646 \r\nL 119.842439 36.941646 \r\nL 122.102489 36.941646 \r\nL 124.362538 36.941646 \r\nL 126.622588 36.941646 \r\nL 128.882637 36.941646 \r\nL 131.142687 36.941646 \r\nL 133.402736 36.941646 \r\nL 135.662786 36.941646 \r\nL 137.922835 36.941646 \r\nL 140.182885 36.941646 \r\nL 142.442934 36.941646 \r\nL 144.702984 36.941646 \r\nL 146.963033 36.941646 \r\nL 149.223083 36.941646 \r\nL 151.483132 36.941646 \r\nL 153.743182 36.941646 \r\nL 156.003231 36.941646 \r\nL 158.263281 36.941646 \r\nL 160.52333 36.941646 \r\nL 162.78338 36.941646 \r\nL 165.043429 36.941646 \r\nL 167.303479 36.941646 \r\nL 169.563528 36.941646 \r\nL 171.823578 36.941646 \r\nL 174.083627 36.941646 \r\nL 176.343677 36.941646 \r\nL 178.603726 36.941646 \r\nL 180.863776 36.941646 \r\nL 183.123825 36.941646 \r\nL 185.383875 36.941646 \r\nL 187.643924 36.941646 \r\nL 189.903974 36.941646 \r\nL 192.164023 36.941646 \r\nL 194.424073 36.941646 \r\nL 196.684122 36.941646 \r\nL 198.944172 36.941646 \r\nL 201.204221 36.941646 \r\nL 203.464271 36.941646 \r\nL 205.72432 36.941646 \r\nL 207.98437 36.941646 \r\nL 210.244419 36.941646 \r\nL 212.504469 36.941646 \r\nL 214.764518 36.941646 \r\nL 217.024568 36.941646 \r\nL 219.284617 36.941646 \r\nL 221.544667 36.941646 \r\nL 223.804716 36.941646 \r\nL 226.064766 36.941646 \r\nL 228.324815 36.941646 \r\nL 230.584865 36.941646 \r\nL 232.844914 36.941646 \r\nL 235.104964 36.941646 \r\nL 237.365013 36.941646 \r\nL 239.625063 36.941646 \r\nL 241.885112 36.941646 \r\nL 244.145162 36.941646 \r\nL 246.405211 36.941646 \r\nL 248.665261 36.941646 \r\nL 250.92531 36.941646 \r\nL 253.18536 36.941646 \r\nL 255.445409 36.941646 \r\nL 257.705459 36.941646 \r\nL 259.965508 36.941646 \r\nL 262.225558 36.941646 \r\nL 264.485607 36.941646 \r\nL 266.745657 36.941646 \r\n\" style=\"fill:none;stroke:#1f77b4;stroke-linecap:square;stroke-width:1.5;\"/>\r\n   </g>\r\n   <g id=\"patch_3\">\r\n    <path d=\"M 26.925 341.514 \r\nL 26.925 7.2 \r\n\" style=\"fill:none;stroke:#000000;stroke-linecap:square;stroke-linejoin:miter;stroke-width:0.8;\"/>\r\n   </g>\r\n   <g id=\"patch_4\">\r\n    <path d=\"M 280.561364 341.514 \r\nL 280.561364 7.2 \r\n\" style=\"fill:none;stroke:#000000;stroke-linecap:square;stroke-linejoin:miter;stroke-width:0.8;\"/>\r\n   </g>\r\n   <g id=\"patch_5\">\r\n    <path d=\"M 26.925 341.514 \r\nL 280.561364 341.514 \r\n\" style=\"fill:none;stroke:#000000;stroke-linecap:square;stroke-linejoin:miter;stroke-width:0.8;\"/>\r\n   </g>\r\n   <g id=\"patch_6\">\r\n    <path d=\"M 26.925 7.2 \r\nL 280.561364 7.2 \r\n\" style=\"fill:none;stroke:#000000;stroke-linecap:square;stroke-linejoin:miter;stroke-width:0.8;\"/>\r\n   </g>\r\n  </g>\r\n  <g id=\"axes_2\">\r\n   <g id=\"patch_7\">\r\n    <path d=\"M 331.288636 341.514 \r\nL 584.925 341.514 \r\nL 584.925 7.2 \r\nL 331.288636 7.2 \r\nz\r\n\" style=\"fill:#ffffff;\"/>\r\n   </g>\r\n   <g id=\"PathCollection_2\">\r\n    <g clip-path=\"url(#p6bf0d5ecc8)\">\r\n     <use style=\"fill:#1f77b4;stroke:#1f77b4;\" x=\"342.844294\" xlink:href=\"#m96507a22d1\" y=\"326.281563\"/>\r\n     <use style=\"fill:#1f77b4;stroke:#1f77b4;\" x=\"345.12672\" xlink:href=\"#m96507a22d1\" y=\"22.56938\"/>\r\n     <use style=\"fill:#1f77b4;stroke:#1f77b4;\" x=\"347.409146\" xlink:href=\"#m96507a22d1\" y=\"22.690292\"/>\r\n     <use style=\"fill:#1f77b4;stroke:#1f77b4;\" x=\"349.691572\" xlink:href=\"#m96507a22d1\" y=\"22.875981\"/>\r\n     <use style=\"fill:#1f77b4;stroke:#1f77b4;\" x=\"351.973999\" xlink:href=\"#m96507a22d1\" y=\"23.131656\"/>\r\n     <use style=\"fill:#1f77b4;stroke:#1f77b4;\" x=\"354.256425\" xlink:href=\"#m96507a22d1\" y=\"23.464258\"/>\r\n     <use style=\"fill:#1f77b4;stroke:#1f77b4;\" x=\"356.538851\" xlink:href=\"#m96507a22d1\" y=\"23.882377\"/>\r\n     <use style=\"fill:#1f77b4;stroke:#1f77b4;\" x=\"358.821277\" xlink:href=\"#m96507a22d1\" y=\"24.396009\"/>\r\n     <use style=\"fill:#1f77b4;stroke:#1f77b4;\" x=\"361.103704\" xlink:href=\"#m96507a22d1\" y=\"25.016051\"/>\r\n     <use style=\"fill:#1f77b4;stroke:#1f77b4;\" x=\"363.38613\" xlink:href=\"#m96507a22d1\" y=\"25.753372\"/>\r\n     <use style=\"fill:#1f77b4;stroke:#1f77b4;\" x=\"365.668556\" xlink:href=\"#m96507a22d1\" y=\"26.617294\"/>\r\n     <use style=\"fill:#1f77b4;stroke:#1f77b4;\" x=\"367.950982\" xlink:href=\"#m96507a22d1\" y=\"27.613357\"/>\r\n     <use style=\"fill:#1f77b4;stroke:#1f77b4;\" x=\"370.233408\" xlink:href=\"#m96507a22d1\" y=\"28.740433\"/>\r\n     <use style=\"fill:#1f77b4;stroke:#1f77b4;\" x=\"372.515835\" xlink:href=\"#m96507a22d1\" y=\"29.987658\"/>\r\n     <use style=\"fill:#1f77b4;stroke:#1f77b4;\" x=\"374.798261\" xlink:href=\"#m96507a22d1\" y=\"31.332167\"/>\r\n     <use style=\"fill:#1f77b4;stroke:#1f77b4;\" x=\"377.080687\" xlink:href=\"#m96507a22d1\" y=\"32.739039\"/>\r\n     <use style=\"fill:#1f77b4;stroke:#1f77b4;\" x=\"379.363113\" xlink:href=\"#m96507a22d1\" y=\"34.164443\"/>\r\n     <use style=\"fill:#1f77b4;stroke:#1f77b4;\" x=\"381.64554\" xlink:href=\"#m96507a22d1\" y=\"35.561725\"/>\r\n     <use style=\"fill:#1f77b4;stroke:#1f77b4;\" x=\"383.927966\" xlink:href=\"#m96507a22d1\" y=\"36.888508\"/>\r\n     <use style=\"fill:#1f77b4;stroke:#1f77b4;\" x=\"386.210392\" xlink:href=\"#m96507a22d1\" y=\"38.112273\"/>\r\n     <use style=\"fill:#1f77b4;stroke:#1f77b4;\" x=\"388.492818\" xlink:href=\"#m96507a22d1\" y=\"39.212796\"/>\r\n     <use style=\"fill:#1f77b4;stroke:#1f77b4;\" x=\"390.775245\" xlink:href=\"#m96507a22d1\" y=\"40.181505\"/>\r\n     <use style=\"fill:#1f77b4;stroke:#1f77b4;\" x=\"393.057671\" xlink:href=\"#m96507a22d1\" y=\"41.018947\"/>\r\n     <use style=\"fill:#1f77b4;stroke:#1f77b4;\" x=\"395.340097\" xlink:href=\"#m96507a22d1\" y=\"41.731687\"/>\r\n     <use style=\"fill:#1f77b4;stroke:#1f77b4;\" x=\"397.622523\" xlink:href=\"#m96507a22d1\" y=\"42.32954\"/>\r\n     <use style=\"fill:#1f77b4;stroke:#1f77b4;\" x=\"399.904949\" xlink:href=\"#m96507a22d1\" y=\"42.823493\"/>\r\n     <use style=\"fill:#1f77b4;stroke:#1f77b4;\" x=\"402.187376\" xlink:href=\"#m96507a22d1\" y=\"43.224324\"/>\r\n     <use style=\"fill:#1f77b4;stroke:#1f77b4;\" x=\"404.469802\" xlink:href=\"#m96507a22d1\" y=\"43.541783\"/>\r\n     <use style=\"fill:#1f77b4;stroke:#1f77b4;\" x=\"406.752228\" xlink:href=\"#m96507a22d1\" y=\"43.784153\"/>\r\n     <use style=\"fill:#1f77b4;stroke:#1f77b4;\" x=\"409.034654\" xlink:href=\"#m96507a22d1\" y=\"43.958052\"/>\r\n     <use style=\"fill:#1f77b4;stroke:#1f77b4;\" x=\"411.317081\" xlink:href=\"#m96507a22d1\" y=\"44.068367\"/>\r\n     <use style=\"fill:#1f77b4;stroke:#1f77b4;\" x=\"413.599507\" xlink:href=\"#m96507a22d1\" y=\"44.118249\"/>\r\n     <use style=\"fill:#1f77b4;stroke:#1f77b4;\" x=\"415.881933\" xlink:href=\"#m96507a22d1\" y=\"44.109126\"/>\r\n     <use style=\"fill:#1f77b4;stroke:#1f77b4;\" x=\"418.164359\" xlink:href=\"#m96507a22d1\" y=\"44.040715\"/>\r\n     <use style=\"fill:#1f77b4;stroke:#1f77b4;\" x=\"420.446785\" xlink:href=\"#m96507a22d1\" y=\"43.911017\"/>\r\n     <use style=\"fill:#1f77b4;stroke:#1f77b4;\" x=\"422.729212\" xlink:href=\"#m96507a22d1\" y=\"43.716301\"/>\r\n     <use style=\"fill:#1f77b4;stroke:#1f77b4;\" x=\"425.011638\" xlink:href=\"#m96507a22d1\" y=\"43.451089\"/>\r\n     <use style=\"fill:#1f77b4;stroke:#1f77b4;\" x=\"427.294064\" xlink:href=\"#m96507a22d1\" y=\"43.108176\"/>\r\n     <use style=\"fill:#1f77b4;stroke:#1f77b4;\" x=\"429.57649\" xlink:href=\"#m96507a22d1\" y=\"42.678728\"/>\r\n     <use style=\"fill:#1f77b4;stroke:#1f77b4;\" x=\"431.858917\" xlink:href=\"#m96507a22d1\" y=\"42.152547\"/>\r\n     <use style=\"fill:#1f77b4;stroke:#1f77b4;\" x=\"434.141343\" xlink:href=\"#m96507a22d1\" y=\"41.518623\"/>\r\n     <use style=\"fill:#1f77b4;stroke:#1f77b4;\" x=\"436.423769\" xlink:href=\"#m96507a22d1\" y=\"40.76612\"/>\r\n     <use style=\"fill:#1f77b4;stroke:#1f77b4;\" x=\"438.706195\" xlink:href=\"#m96507a22d1\" y=\"39.885985\"/>\r\n     <use style=\"fill:#1f77b4;stroke:#1f77b4;\" x=\"440.988621\" xlink:href=\"#m96507a22d1\" y=\"38.873273\"/>\r\n     <use style=\"fill:#1f77b4;stroke:#1f77b4;\" x=\"443.271048\" xlink:href=\"#m96507a22d1\" y=\"37.730092\"/>\r\n     <use style=\"fill:#1f77b4;stroke:#1f77b4;\" x=\"445.553474\" xlink:href=\"#m96507a22d1\" y=\"36.468652\"/>\r\n     <use style=\"fill:#1f77b4;stroke:#1f77b4;\" x=\"447.8359\" xlink:href=\"#m96507a22d1\" y=\"35.113331\"/>\r\n     <use style=\"fill:#1f77b4;stroke:#1f77b4;\" x=\"450.118326\" xlink:href=\"#m96507a22d1\" y=\"33.700392\"/>\r\n     <use style=\"fill:#1f77b4;stroke:#1f77b4;\" x=\"452.400753\" xlink:href=\"#m96507a22d1\" y=\"32.274413\"/>\r\n     <use style=\"fill:#1f77b4;stroke:#1f77b4;\" x=\"454.683179\" xlink:href=\"#m96507a22d1\" y=\"30.881941\"/>\r\n     <use style=\"fill:#1f77b4;stroke:#1f77b4;\" x=\"456.965605\" xlink:href=\"#m96507a22d1\" y=\"29.564421\"/>\r\n     <use style=\"fill:#1f77b4;stroke:#1f77b4;\" x=\"459.248031\" xlink:href=\"#m96507a22d1\" y=\"28.352941\"/>\r\n     <use style=\"fill:#1f77b4;stroke:#1f77b4;\" x=\"461.530458\" xlink:href=\"#m96507a22d1\" y=\"27.266197\"/>\r\n     <use style=\"fill:#1f77b4;stroke:#1f77b4;\" x=\"463.812884\" xlink:href=\"#m96507a22d1\" y=\"26.311446\"/>\r\n     <use style=\"fill:#1f77b4;stroke:#1f77b4;\" x=\"466.09531\" xlink:href=\"#m96507a22d1\" y=\"25.487186\"/>\r\n     <use style=\"fill:#1f77b4;stroke:#1f77b4;\" x=\"468.377736\" xlink:href=\"#m96507a22d1\" y=\"24.786258\"/>\r\n     <use style=\"fill:#1f77b4;stroke:#1f77b4;\" x=\"470.660162\" xlink:href=\"#m96507a22d1\" y=\"24.198534\"/>\r\n     <use style=\"fill:#1f77b4;stroke:#1f77b4;\" x=\"472.942589\" xlink:href=\"#m96507a22d1\" y=\"23.712917\"/>\r\n     <use style=\"fill:#1f77b4;stroke:#1f77b4;\" x=\"475.225015\" xlink:href=\"#m96507a22d1\" y=\"23.318625\"/>\r\n     <use style=\"fill:#1f77b4;stroke:#1f77b4;\" x=\"477.507441\" xlink:href=\"#m96507a22d1\" y=\"23.005967\"/>\r\n     <use style=\"fill:#1f77b4;stroke:#1f77b4;\" x=\"479.789867\" xlink:href=\"#m96507a22d1\" y=\"22.766726\"/>\r\n     <use style=\"fill:#1f77b4;stroke:#1f77b4;\" x=\"482.072294\" xlink:href=\"#m96507a22d1\" y=\"22.594343\"/>\r\n     <use style=\"fill:#1f77b4;stroke:#1f77b4;\" x=\"484.35472\" xlink:href=\"#m96507a22d1\" y=\"22.483963\"/>\r\n     <use style=\"fill:#1f77b4;stroke:#1f77b4;\" x=\"486.637146\" xlink:href=\"#m96507a22d1\" y=\"22.432437\"/>\r\n     <use style=\"fill:#1f77b4;stroke:#1f77b4;\" x=\"488.919572\" xlink:href=\"#m96507a22d1\" y=\"22.4383\"/>\r\n     <use style=\"fill:#1f77b4;stroke:#1f77b4;\" x=\"491.201998\" xlink:href=\"#m96507a22d1\" y=\"22.501767\"/>\r\n     <use style=\"fill:#1f77b4;stroke:#1f77b4;\" x=\"493.484425\" xlink:href=\"#m96507a22d1\" y=\"22.62473\"/>\r\n     <use style=\"fill:#1f77b4;stroke:#1f77b4;\" x=\"495.766851\" xlink:href=\"#m96507a22d1\" y=\"22.810787\"/>\r\n     <use style=\"fill:#1f77b4;stroke:#1f77b4;\" x=\"498.049277\" xlink:href=\"#m96507a22d1\" y=\"23.065256\"/>\r\n     <use style=\"fill:#1f77b4;stroke:#1f77b4;\" x=\"500.331703\" xlink:href=\"#m96507a22d1\" y=\"23.395179\"/>\r\n     <use style=\"fill:#1f77b4;stroke:#1f77b4;\" x=\"502.61413\" xlink:href=\"#m96507a22d1\" y=\"23.809244\"/>\r\n     <use style=\"fill:#1f77b4;stroke:#1f77b4;\" x=\"504.896556\" xlink:href=\"#m96507a22d1\" y=\"24.317564\"/>\r\n     <use style=\"fill:#1f77b4;stroke:#1f77b4;\" x=\"507.178982\" xlink:href=\"#m96507a22d1\" y=\"24.931198\"/>\r\n     <use style=\"fill:#1f77b4;stroke:#1f77b4;\" x=\"509.461408\" xlink:href=\"#m96507a22d1\" y=\"25.661263\"/>\r\n     <use style=\"fill:#1f77b4;stroke:#1f77b4;\" x=\"511.743835\" xlink:href=\"#m96507a22d1\" y=\"26.517456\"/>\r\n     <use style=\"fill:#1f77b4;stroke:#1f77b4;\" x=\"514.026261\" xlink:href=\"#m96507a22d1\" y=\"27.505871\"/>\r\n     <use style=\"fill:#1f77b4;stroke:#1f77b4;\" x=\"516.308687\" xlink:href=\"#m96507a22d1\" y=\"28.626137\"/>\r\n     <use style=\"fill:#1f77b4;stroke:#1f77b4;\" x=\"518.591113\" xlink:href=\"#m96507a22d1\" y=\"29.868315\"/>\r\n     <use style=\"fill:#1f77b4;stroke:#1f77b4;\" x=\"520.873539\" xlink:href=\"#m96507a22d1\" y=\"31.210514\"/>\r\n     <use style=\"fill:#1f77b4;stroke:#1f77b4;\" x=\"523.155966\" xlink:href=\"#m96507a22d1\" y=\"32.618603\"/>\r\n     <use style=\"fill:#1f77b4;stroke:#1f77b4;\" x=\"525.438392\" xlink:href=\"#m96507a22d1\" y=\"34.049134\"/>\r\n     <use style=\"fill:#1f77b4;stroke:#1f77b4;\" x=\"527.720818\" xlink:href=\"#m96507a22d1\" y=\"35.45529\"/>\r\n     <use style=\"fill:#1f77b4;stroke:#1f77b4;\" x=\"530.003244\" xlink:href=\"#m96507a22d1\" y=\"36.794064\"/>\r\n     <use style=\"fill:#1f77b4;stroke:#1f77b4;\" x=\"532.285671\" xlink:href=\"#m96507a22d1\" y=\"38.032058\"/>\r\n     <use style=\"fill:#1f77b4;stroke:#1f77b4;\" x=\"534.568097\" xlink:href=\"#m96507a22d1\" y=\"39.148187\"/>\r\n     <use style=\"fill:#1f77b4;stroke:#1f77b4;\" x=\"536.850523\" xlink:href=\"#m96507a22d1\" y=\"40.133216\"/>\r\n     <use style=\"fill:#1f77b4;stroke:#1f77b4;\" x=\"539.132949\" xlink:href=\"#m96507a22d1\" y=\"40.987295\"/>\r\n     <use style=\"fill:#1f77b4;stroke:#1f77b4;\" x=\"541.415375\" xlink:href=\"#m96507a22d1\" y=\"41.716842\"/>\r\n     <use style=\"fill:#1f77b4;stroke:#1f77b4;\" x=\"543.697802\" xlink:href=\"#m96507a22d1\" y=\"42.331732\"/>\r\n     <use style=\"fill:#1f77b4;stroke:#1f77b4;\" x=\"545.980228\" xlink:href=\"#m96507a22d1\" y=\"42.84316\"/>\r\n     <use style=\"fill:#1f77b4;stroke:#1f77b4;\" x=\"548.262654\" xlink:href=\"#m96507a22d1\" y=\"43.262232\"/>\r\n     <use style=\"fill:#1f77b4;stroke:#1f77b4;\" x=\"550.54508\" xlink:href=\"#m96507a22d1\" y=\"43.599113\"/>\r\n     <use style=\"fill:#1f77b4;stroke:#1f77b4;\" x=\"552.827507\" xlink:href=\"#m96507a22d1\" y=\"43.862586\"/>\r\n     <use style=\"fill:#1f77b4;stroke:#1f77b4;\" x=\"555.109933\" xlink:href=\"#m96507a22d1\" y=\"44.059845\"/>\r\n     <use style=\"fill:#1f77b4;stroke:#1f77b4;\" x=\"557.392359\" xlink:href=\"#m96507a22d1\" y=\"44.196437\"/>\r\n     <use style=\"fill:#1f77b4;stroke:#1f77b4;\" x=\"559.674785\" xlink:href=\"#m96507a22d1\" y=\"44.276262\"/>\r\n     <use style=\"fill:#1f77b4;stroke:#1f77b4;\" x=\"561.957211\" xlink:href=\"#m96507a22d1\" y=\"44.3016\"/>\r\n     <use style=\"fill:#1f77b4;stroke:#1f77b4;\" x=\"564.239638\" xlink:href=\"#m96507a22d1\" y=\"44.273129\"/>\r\n     <use style=\"fill:#1f77b4;stroke:#1f77b4;\" x=\"566.522064\" xlink:href=\"#m96507a22d1\" y=\"44.18993\"/>\r\n     <use style=\"fill:#1f77b4;stroke:#1f77b4;\" x=\"568.80449\" xlink:href=\"#m96507a22d1\" y=\"44.049468\"/>\r\n     <use style=\"fill:#1f77b4;stroke:#1f77b4;\" x=\"571.086916\" xlink:href=\"#m96507a22d1\" y=\"43.847561\"/>\r\n     <use style=\"fill:#1f77b4;stroke:#1f77b4;\" x=\"573.369343\" xlink:href=\"#m96507a22d1\" y=\"43.578348\"/>\r\n    </g>\r\n   </g>\r\n   <g id=\"matplotlib.axis_3\">\r\n    <g id=\"xtick_7\">\r\n     <g id=\"line2d_15\">\r\n      <g>\r\n       <use style=\"stroke:#000000;stroke-width:0.8;\" x=\"342.844294\" xlink:href=\"#ma73c002d59\" y=\"341.514\"/>\r\n      </g>\r\n     </g>\r\n     <g id=\"text_14\">\r\n      <!-- 0 -->\r\n      <g transform=\"translate(339.663044 356.112437)scale(0.1 -0.1)\">\r\n       <use xlink:href=\"#DejaVuSans-48\"/>\r\n      </g>\r\n     </g>\r\n    </g>\r\n    <g id=\"xtick_8\">\r\n     <g id=\"line2d_16\">\r\n      <g>\r\n       <use style=\"stroke:#000000;stroke-width:0.8;\" x=\"388.045284\" xlink:href=\"#ma73c002d59\" y=\"341.514\"/>\r\n      </g>\r\n     </g>\r\n     <g id=\"text_15\">\r\n      <!-- 20 -->\r\n      <g transform=\"translate(381.682784 356.112437)scale(0.1 -0.1)\">\r\n       <use xlink:href=\"#DejaVuSans-50\"/>\r\n       <use x=\"63.623047\" xlink:href=\"#DejaVuSans-48\"/>\r\n      </g>\r\n     </g>\r\n    </g>\r\n    <g id=\"xtick_9\">\r\n     <g id=\"line2d_17\">\r\n      <g>\r\n       <use style=\"stroke:#000000;stroke-width:0.8;\" x=\"433.246274\" xlink:href=\"#ma73c002d59\" y=\"341.514\"/>\r\n      </g>\r\n     </g>\r\n     <g id=\"text_16\">\r\n      <!-- 40 -->\r\n      <g transform=\"translate(426.883774 356.112437)scale(0.1 -0.1)\">\r\n       <use xlink:href=\"#DejaVuSans-52\"/>\r\n       <use x=\"63.623047\" xlink:href=\"#DejaVuSans-48\"/>\r\n      </g>\r\n     </g>\r\n    </g>\r\n    <g id=\"xtick_10\">\r\n     <g id=\"line2d_18\">\r\n      <g>\r\n       <use style=\"stroke:#000000;stroke-width:0.8;\" x=\"478.447264\" xlink:href=\"#ma73c002d59\" y=\"341.514\"/>\r\n      </g>\r\n     </g>\r\n     <g id=\"text_17\">\r\n      <!-- 60 -->\r\n      <g transform=\"translate(472.084764 356.112437)scale(0.1 -0.1)\">\r\n       <use xlink:href=\"#DejaVuSans-54\"/>\r\n       <use x=\"63.623047\" xlink:href=\"#DejaVuSans-48\"/>\r\n      </g>\r\n     </g>\r\n    </g>\r\n    <g id=\"xtick_11\">\r\n     <g id=\"line2d_19\">\r\n      <g>\r\n       <use style=\"stroke:#000000;stroke-width:0.8;\" x=\"523.648254\" xlink:href=\"#ma73c002d59\" y=\"341.514\"/>\r\n      </g>\r\n     </g>\r\n     <g id=\"text_18\">\r\n      <!-- 80 -->\r\n      <g transform=\"translate(517.285754 356.112437)scale(0.1 -0.1)\">\r\n       <use xlink:href=\"#DejaVuSans-56\"/>\r\n       <use x=\"63.623047\" xlink:href=\"#DejaVuSans-48\"/>\r\n      </g>\r\n     </g>\r\n    </g>\r\n    <g id=\"xtick_12\">\r\n     <g id=\"line2d_20\">\r\n      <g>\r\n       <use style=\"stroke:#000000;stroke-width:0.8;\" x=\"568.849244\" xlink:href=\"#ma73c002d59\" y=\"341.514\"/>\r\n      </g>\r\n     </g>\r\n     <g id=\"text_19\">\r\n      <!-- 100 -->\r\n      <g transform=\"translate(559.305494 356.112437)scale(0.1 -0.1)\">\r\n       <use xlink:href=\"#DejaVuSans-49\"/>\r\n       <use x=\"63.623047\" xlink:href=\"#DejaVuSans-48\"/>\r\n       <use x=\"127.246094\" xlink:href=\"#DejaVuSans-48\"/>\r\n      </g>\r\n     </g>\r\n    </g>\r\n   </g>\r\n   <g id=\"matplotlib.axis_4\">\r\n    <g id=\"ytick_8\">\r\n     <g id=\"line2d_21\">\r\n      <g>\r\n       <use style=\"stroke:#000000;stroke-width:0.8;\" x=\"331.288636\" xlink:href=\"#mf88d4cf37e\" y=\"326.281563\"/>\r\n      </g>\r\n     </g>\r\n     <g id=\"text_20\">\r\n      <!-- 0 -->\r\n      <g transform=\"translate(317.926136 330.080782)scale(0.1 -0.1)\">\r\n       <use xlink:href=\"#DejaVuSans-48\"/>\r\n      </g>\r\n     </g>\r\n    </g>\r\n    <g id=\"ytick_9\">\r\n     <g id=\"line2d_22\">\r\n      <g>\r\n       <use style=\"stroke:#000000;stroke-width:0.8;\" x=\"331.288636\" xlink:href=\"#mf88d4cf37e\" y=\"285.77866\"/>\r\n      </g>\r\n     </g>\r\n     <g id=\"text_21\">\r\n      <!-- 10 -->\r\n      <g transform=\"translate(311.563636 289.577878)scale(0.1 -0.1)\">\r\n       <use xlink:href=\"#DejaVuSans-49\"/>\r\n       <use x=\"63.623047\" xlink:href=\"#DejaVuSans-48\"/>\r\n      </g>\r\n     </g>\r\n    </g>\r\n    <g id=\"ytick_10\">\r\n     <g id=\"line2d_23\">\r\n      <g>\r\n       <use style=\"stroke:#000000;stroke-width:0.8;\" x=\"331.288636\" xlink:href=\"#mf88d4cf37e\" y=\"245.275756\"/>\r\n      </g>\r\n     </g>\r\n     <g id=\"text_22\">\r\n      <!-- 20 -->\r\n      <g transform=\"translate(311.563636 249.074975)scale(0.1 -0.1)\">\r\n       <use xlink:href=\"#DejaVuSans-50\"/>\r\n       <use x=\"63.623047\" xlink:href=\"#DejaVuSans-48\"/>\r\n      </g>\r\n     </g>\r\n    </g>\r\n    <g id=\"ytick_11\">\r\n     <g id=\"line2d_24\">\r\n      <g>\r\n       <use style=\"stroke:#000000;stroke-width:0.8;\" x=\"331.288636\" xlink:href=\"#mf88d4cf37e\" y=\"204.772852\"/>\r\n      </g>\r\n     </g>\r\n     <g id=\"text_23\">\r\n      <!-- 30 -->\r\n      <g transform=\"translate(311.563636 208.572071)scale(0.1 -0.1)\">\r\n       <use xlink:href=\"#DejaVuSans-51\"/>\r\n       <use x=\"63.623047\" xlink:href=\"#DejaVuSans-48\"/>\r\n      </g>\r\n     </g>\r\n    </g>\r\n    <g id=\"ytick_12\">\r\n     <g id=\"line2d_25\">\r\n      <g>\r\n       <use style=\"stroke:#000000;stroke-width:0.8;\" x=\"331.288636\" xlink:href=\"#mf88d4cf37e\" y=\"164.269948\"/>\r\n      </g>\r\n     </g>\r\n     <g id=\"text_24\">\r\n      <!-- 40 -->\r\n      <g transform=\"translate(311.563636 168.069167)scale(0.1 -0.1)\">\r\n       <use xlink:href=\"#DejaVuSans-52\"/>\r\n       <use x=\"63.623047\" xlink:href=\"#DejaVuSans-48\"/>\r\n      </g>\r\n     </g>\r\n    </g>\r\n    <g id=\"ytick_13\">\r\n     <g id=\"line2d_26\">\r\n      <g>\r\n       <use style=\"stroke:#000000;stroke-width:0.8;\" x=\"331.288636\" xlink:href=\"#mf88d4cf37e\" y=\"123.767045\"/>\r\n      </g>\r\n     </g>\r\n     <g id=\"text_25\">\r\n      <!-- 50 -->\r\n      <g transform=\"translate(311.563636 127.566263)scale(0.1 -0.1)\">\r\n       <use xlink:href=\"#DejaVuSans-53\"/>\r\n       <use x=\"63.623047\" xlink:href=\"#DejaVuSans-48\"/>\r\n      </g>\r\n     </g>\r\n    </g>\r\n    <g id=\"ytick_14\">\r\n     <g id=\"line2d_27\">\r\n      <g>\r\n       <use style=\"stroke:#000000;stroke-width:0.8;\" x=\"331.288636\" xlink:href=\"#mf88d4cf37e\" y=\"83.264141\"/>\r\n      </g>\r\n     </g>\r\n     <g id=\"text_26\">\r\n      <!-- 60 -->\r\n      <g transform=\"translate(311.563636 87.06336)scale(0.1 -0.1)\">\r\n       <use xlink:href=\"#DejaVuSans-54\"/>\r\n       <use x=\"63.623047\" xlink:href=\"#DejaVuSans-48\"/>\r\n      </g>\r\n     </g>\r\n    </g>\r\n    <g id=\"ytick_15\">\r\n     <g id=\"line2d_28\">\r\n      <g>\r\n       <use style=\"stroke:#000000;stroke-width:0.8;\" x=\"331.288636\" xlink:href=\"#mf88d4cf37e\" y=\"42.761237\"/>\r\n      </g>\r\n     </g>\r\n     <g id=\"text_27\">\r\n      <!-- 70 -->\r\n      <defs>\r\n       <path d=\"M 8.203125 72.90625 \r\nL 55.078125 72.90625 \r\nL 55.078125 68.703125 \r\nL 28.609375 0 \r\nL 18.3125 0 \r\nL 43.21875 64.59375 \r\nL 8.203125 64.59375 \r\nz\r\n\" id=\"DejaVuSans-55\"/>\r\n      </defs>\r\n      <g transform=\"translate(311.563636 46.560456)scale(0.1 -0.1)\">\r\n       <use xlink:href=\"#DejaVuSans-55\"/>\r\n       <use x=\"63.623047\" xlink:href=\"#DejaVuSans-48\"/>\r\n      </g>\r\n     </g>\r\n    </g>\r\n   </g>\r\n   <g id=\"line2d_29\">\r\n    <path clip-path=\"url(#p6bf0d5ecc8)\" d=\"M 342.844294 36.895715 \r\nL 345.104343 36.895715 \r\nL 347.364393 36.895715 \r\nL 349.624442 36.895715 \r\nL 351.884492 36.895715 \r\nL 354.144541 36.895715 \r\nL 356.404591 36.895715 \r\nL 358.66464 36.895715 \r\nL 360.92469 36.895715 \r\nL 363.184739 36.895715 \r\nL 365.444789 36.895715 \r\nL 367.704838 36.895715 \r\nL 369.964888 36.895715 \r\nL 372.224937 36.895715 \r\nL 374.484987 36.895715 \r\nL 376.745036 36.895715 \r\nL 379.005086 36.895715 \r\nL 381.265135 36.895715 \r\nL 383.525185 36.895715 \r\nL 385.785234 36.895715 \r\nL 388.045284 36.895715 \r\nL 390.305333 36.895715 \r\nL 392.565383 36.895715 \r\nL 394.825432 36.895715 \r\nL 397.085482 36.895715 \r\nL 399.345531 36.895715 \r\nL 401.605581 36.895715 \r\nL 403.86563 36.895715 \r\nL 406.12568 36.895715 \r\nL 408.385729 36.895715 \r\nL 410.645779 36.895715 \r\nL 412.905828 36.895715 \r\nL 415.165878 36.895715 \r\nL 417.425927 36.895715 \r\nL 419.685977 36.895715 \r\nL 421.946026 36.895715 \r\nL 424.206076 36.895715 \r\nL 426.466125 36.895715 \r\nL 428.726175 36.895715 \r\nL 430.986224 36.895715 \r\nL 433.246274 36.895715 \r\nL 435.506323 36.895715 \r\nL 437.766373 36.895715 \r\nL 440.026422 36.895715 \r\nL 442.286472 36.895715 \r\nL 444.546521 36.895715 \r\nL 446.806571 36.895715 \r\nL 449.06662 36.895715 \r\nL 451.32667 36.895715 \r\nL 453.586719 36.895715 \r\nL 455.846769 36.895715 \r\nL 458.106818 36.895715 \r\nL 460.366868 36.895715 \r\nL 462.626917 36.895715 \r\nL 464.886967 36.895715 \r\nL 467.147016 36.895715 \r\nL 469.407066 36.895715 \r\nL 471.667115 36.895715 \r\nL 473.927165 36.895715 \r\nL 476.187214 36.895715 \r\nL 478.447264 36.895715 \r\nL 480.707313 36.895715 \r\nL 482.967363 36.895715 \r\nL 485.227412 36.895715 \r\nL 487.487462 36.895715 \r\nL 489.747511 36.895715 \r\nL 492.007561 36.895715 \r\nL 494.26761 36.895715 \r\nL 496.52766 36.895715 \r\nL 498.787709 36.895715 \r\nL 501.047759 36.895715 \r\nL 503.307808 36.895715 \r\nL 505.567858 36.895715 \r\nL 507.827907 36.895715 \r\nL 510.087957 36.895715 \r\nL 512.348006 36.895715 \r\nL 514.608056 36.895715 \r\nL 516.868105 36.895715 \r\nL 519.128155 36.895715 \r\nL 521.388204 36.895715 \r\nL 523.648254 36.895715 \r\nL 525.908303 36.895715 \r\nL 528.168353 36.895715 \r\nL 530.428402 36.895715 \r\nL 532.688452 36.895715 \r\nL 534.948501 36.895715 \r\nL 537.208551 36.895715 \r\nL 539.4686 36.895715 \r\nL 541.72865 36.895715 \r\nL 543.988699 36.895715 \r\nL 546.248749 36.895715 \r\nL 548.508798 36.895715 \r\nL 550.768848 36.895715 \r\nL 553.028897 36.895715 \r\nL 555.288947 36.895715 \r\nL 557.548996 36.895715 \r\nL 559.809046 36.895715 \r\nL 562.069095 36.895715 \r\nL 564.329145 36.895715 \r\nL 566.589194 36.895715 \r\nL 568.849244 36.895715 \r\nL 571.109293 36.895715 \r\n\" style=\"fill:none;stroke:#1f77b4;stroke-linecap:square;stroke-width:1.5;\"/>\r\n   </g>\r\n   <g id=\"patch_8\">\r\n    <path d=\"M 331.288636 341.514 \r\nL 331.288636 7.2 \r\n\" style=\"fill:none;stroke:#000000;stroke-linecap:square;stroke-linejoin:miter;stroke-width:0.8;\"/>\r\n   </g>\r\n   <g id=\"patch_9\">\r\n    <path d=\"M 584.925 341.514 \r\nL 584.925 7.2 \r\n\" style=\"fill:none;stroke:#000000;stroke-linecap:square;stroke-linejoin:miter;stroke-width:0.8;\"/>\r\n   </g>\r\n   <g id=\"patch_10\">\r\n    <path d=\"M 331.288636 341.514 \r\nL 584.925 341.514 \r\n\" style=\"fill:none;stroke:#000000;stroke-linecap:square;stroke-linejoin:miter;stroke-width:0.8;\"/>\r\n   </g>\r\n   <g id=\"patch_11\">\r\n    <path d=\"M 331.288636 7.2 \r\nL 584.925 7.2 \r\n\" style=\"fill:none;stroke:#000000;stroke-linecap:square;stroke-linejoin:miter;stroke-width:0.8;\"/>\r\n   </g>\r\n  </g>\r\n </g>\r\n <defs>\r\n  <clipPath id=\"pe7bbf3bac8\">\r\n   <rect height=\"334.314\" width=\"253.636364\" x=\"26.925\" y=\"7.2\"/>\r\n  </clipPath>\r\n  <clipPath id=\"p6bf0d5ecc8\">\r\n   <rect height=\"334.314\" width=\"253.636364\" x=\"331.288636\" y=\"7.2\"/>\r\n  </clipPath>\r\n </defs>\r\n</svg>\r\n",
      "image/png": "[encoded data removed]"
     },
     "metadata": {
      "needs_background": "light"
     }
    }
   ],
   "source": [
    "import matplotlib.pyplot as plt\n",
    "fig, ax = plt.subplots(nrows=1, ncols=2, figsize=(10,6.15))\n",
    "ie = numpy.linspace(0,102,102)\n",
    "len(z)\n",
    "# ie.shape\n",
    "ax[0].scatter(ie,z)\n",
    "ax[1].scatter(ie,e)\n",
    "avg = [sum(z)/len(z)]*len(z)\n",
    "avg2 = [sum(e)/len(e)]*len(e)\n",
    "ax[0].plot(avg)\n",
    "ax[1].plot(avg2)"
   ]
  },
  {
   "cell_type": "code",
   "execution_count": 21,
   "metadata": {},
   "outputs": [
    {
     "output_type": "error",
     "ename": "AttributeError",
     "evalue": "'zip' object has no attribute 'dtype'",
     "traceback": [
      "\u001b[1;31m---------------------------------------------------------------------------\u001b[0m",
      "\u001b[1;31mAttributeError\u001b[0m                            Traceback (most recent call last)",
      "\u001b[1;32m<ipython-input-21-9bdbb1941203>\u001b[0m in \u001b[0;36m<module>\u001b[1;34m\u001b[0m\n\u001b[1;32m----> 1\u001b[1;33m \u001b[0mzip\u001b[0m\u001b[1;33m(\u001b[0m\u001b[0mdata\u001b[0m\u001b[1;33m[\u001b[0m\u001b[1;34m'lat'\u001b[0m\u001b[1;33m]\u001b[0m\u001b[1;33m,\u001b[0m\u001b[0mdata\u001b[0m\u001b[1;33m[\u001b[0m\u001b[1;34m'long'\u001b[0m\u001b[1;33m]\u001b[0m\u001b[1;33m)\u001b[0m\u001b[1;33m.\u001b[0m\u001b[0mdtype\u001b[0m\u001b[1;33m\u001b[0m\u001b[1;33m\u001b[0m\u001b[0m\n\u001b[0m",
      "\u001b[1;31mAttributeError\u001b[0m: 'zip' object has no attribute 'dtype'"
     ]
    }
   ],
   "source": []
  },
  {
   "source": [],
   "cell_type": "markdown",
   "metadata": {}
  }
 ],
 "metadata": {
  "kernelspec": {
   "display_name": "Python 3",
   "language": "python",
   "name": "python3"
  },
  "language_info": {
   "codemirror_mode": {
    "name": "ipython",
    "version": 3
   },
   "file_extension": ".py",
   "mimetype": "text/x-python",
   "name": "python",
   "nbconvert_exporter": "python",
   "pygments_lexer": "ipython3",
   "version": "3.8.0-final"
  }
 },
 "nbformat": 4,
 "nbformat_minor": 4
}